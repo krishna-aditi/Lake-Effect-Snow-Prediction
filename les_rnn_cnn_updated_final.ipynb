{
 "cells": [
  {
   "cell_type": "markdown",
   "id": "63323b92",
   "metadata": {},
   "source": [
    "# INFO 6106 - Neural Modeling: Final Project\n",
    "# Lake Snow Effect using RNN and CNN models\n",
    "**Submitted by:**\n",
    "- Aditi Krishna\n",
    "- Abhishek Shankar"
   ]
  },
  {
   "cell_type": "markdown",
   "id": "544a13a7",
   "metadata": {},
   "source": [
    "Importing libraries."
   ]
  },
  {
   "cell_type": "code",
   "execution_count": 1,
   "id": "0ad78f58",
   "metadata": {},
   "outputs": [],
   "source": [
    "import os\n",
    "os.environ['TF_CPP_MIN_LOG_LEVEL'] = '3' \n",
    "import pandas as pd\n",
    "import numpy as np\n",
    "import pickle\n",
    "import ast\n",
    "from tqdm.notebook import tqdm\n",
    "\n",
    "# Plotting libraries\n",
    "import matplotlib.pyplot as plt\n",
    "import matplotlib.cm as cm\n",
    "import seaborn as sns\n",
    "%matplotlib inline\n",
    "\n",
    "# Tensorflow\n",
    "from __future__ import print_function\n",
    "from sklearn.preprocessing import MinMaxScaler\n",
    "import tensorflow as tf\n",
    "from tensorflow.keras.models import Sequential, Model\n",
    "from tensorflow.keras import models, layers, optimizers, losses, metrics, regularizers\n",
    "from tensorflow.keras.datasets import mnist\n",
    "from tensorflow.keras.utils import to_categorical\n",
    "from keras.optimizers import Adam, SGD\n",
    "# tf.config.run_functions_eagerly(True)"
   ]
  },
  {
   "cell_type": "markdown",
   "id": "d8a80936",
   "metadata": {},
   "source": [
    "We read the saved data from the last notebook, where we cleaned the dataset based on different conditions."
   ]
  },
  {
   "cell_type": "code",
   "execution_count": 2,
   "id": "ea2819cf",
   "metadata": {},
   "outputs": [],
   "source": [
    "filtered_les_new = pd.read_csv('updated.csv')"
   ]
  },
  {
   "cell_type": "markdown",
   "id": "66beaf14",
   "metadata": {},
   "source": [
    "#### Separating the data into X and y"
   ]
  },
  {
   "cell_type": "code",
   "execution_count": 3,
   "id": "b89eac20",
   "metadata": {},
   "outputs": [],
   "source": [
    "X_les = filtered_les_new.loc[:, filtered_les_new.columns != 'LES_Snowfall']\n",
    "y_les = filtered_les_new['LES_Snowfall']"
   ]
  },
  {
   "cell_type": "markdown",
   "id": "6c587e0b",
   "metadata": {},
   "source": [
    "#### Scaling the data\n",
    "Using `MinMaxScaler` to scale the features and then recreating a dataframe with same column names."
   ]
  },
  {
   "cell_type": "code",
   "execution_count": 4,
   "id": "eba1c427",
   "metadata": {},
   "outputs": [
    {
     "data": {
      "text/html": [
       "<div>\n",
       "<style scoped>\n",
       "    .dataframe tbody tr th:only-of-type {\n",
       "        vertical-align: middle;\n",
       "    }\n",
       "\n",
       "    .dataframe tbody tr th {\n",
       "        vertical-align: top;\n",
       "    }\n",
       "\n",
       "    .dataframe thead th {\n",
       "        text-align: right;\n",
       "    }\n",
       "</style>\n",
       "<table border=\"1\" class=\"dataframe\">\n",
       "  <thead>\n",
       "    <tr style=\"text-align: right;\">\n",
       "      <th></th>\n",
       "      <th>RH_pct</th>\n",
       "      <th>Wind_Spd_mph</th>\n",
       "      <th>Wind_Direction_deg</th>\n",
       "      <th>Low_Cloud_Ht_ft</th>\n",
       "      <th>Med_Cloud_Ht_ft</th>\n",
       "      <th>High_Cloud_Ht_ft</th>\n",
       "      <th>Visibility_mi</th>\n",
       "      <th>Atm_Press_hPa</th>\n",
       "      <th>Sea_Lev_Press_hPa</th>\n",
       "      <th>Altimeter_hPa</th>\n",
       "      <th>idx</th>\n",
       "    </tr>\n",
       "  </thead>\n",
       "  <tbody>\n",
       "    <tr>\n",
       "      <th>0</th>\n",
       "      <td>0.49</td>\n",
       "      <td>0.294118</td>\n",
       "      <td>0.750000</td>\n",
       "      <td>0.128571</td>\n",
       "      <td>0.0</td>\n",
       "      <td>0.0</td>\n",
       "      <td>1.0</td>\n",
       "      <td>0.976249</td>\n",
       "      <td>0.975278</td>\n",
       "      <td>0.976302</td>\n",
       "      <td>0</td>\n",
       "    </tr>\n",
       "    <tr>\n",
       "      <th>1</th>\n",
       "      <td>0.47</td>\n",
       "      <td>0.088235</td>\n",
       "      <td>0.000000</td>\n",
       "      <td>0.000000</td>\n",
       "      <td>0.0</td>\n",
       "      <td>0.0</td>\n",
       "      <td>1.0</td>\n",
       "      <td>0.976249</td>\n",
       "      <td>0.975182</td>\n",
       "      <td>0.976302</td>\n",
       "      <td>1</td>\n",
       "    </tr>\n",
       "    <tr>\n",
       "      <th>2</th>\n",
       "      <td>0.55</td>\n",
       "      <td>0.176471</td>\n",
       "      <td>0.111111</td>\n",
       "      <td>0.000000</td>\n",
       "      <td>0.0</td>\n",
       "      <td>0.0</td>\n",
       "      <td>1.0</td>\n",
       "      <td>0.976249</td>\n",
       "      <td>0.975278</td>\n",
       "      <td>0.976302</td>\n",
       "      <td>2</td>\n",
       "    </tr>\n",
       "    <tr>\n",
       "      <th>3</th>\n",
       "      <td>0.71</td>\n",
       "      <td>0.000000</td>\n",
       "      <td>0.000000</td>\n",
       "      <td>0.000000</td>\n",
       "      <td>0.0</td>\n",
       "      <td>0.0</td>\n",
       "      <td>1.0</td>\n",
       "      <td>0.976249</td>\n",
       "      <td>0.975278</td>\n",
       "      <td>0.976302</td>\n",
       "      <td>3</td>\n",
       "    </tr>\n",
       "    <tr>\n",
       "      <th>4</th>\n",
       "      <td>0.82</td>\n",
       "      <td>0.000000</td>\n",
       "      <td>0.000000</td>\n",
       "      <td>0.285714</td>\n",
       "      <td>0.0</td>\n",
       "      <td>0.0</td>\n",
       "      <td>1.0</td>\n",
       "      <td>0.976249</td>\n",
       "      <td>0.975374</td>\n",
       "      <td>0.976302</td>\n",
       "      <td>4</td>\n",
       "    </tr>\n",
       "  </tbody>\n",
       "</table>\n",
       "</div>"
      ],
      "text/plain": [
       "   RH_pct  Wind_Spd_mph  Wind_Direction_deg  Low_Cloud_Ht_ft  Med_Cloud_Ht_ft   \n",
       "0    0.49      0.294118            0.750000         0.128571              0.0  \\\n",
       "1    0.47      0.088235            0.000000         0.000000              0.0   \n",
       "2    0.55      0.176471            0.111111         0.000000              0.0   \n",
       "3    0.71      0.000000            0.000000         0.000000              0.0   \n",
       "4    0.82      0.000000            0.000000         0.285714              0.0   \n",
       "\n",
       "   High_Cloud_Ht_ft  Visibility_mi  Atm_Press_hPa  Sea_Lev_Press_hPa   \n",
       "0               0.0            1.0       0.976249           0.975278  \\\n",
       "1               0.0            1.0       0.976249           0.975182   \n",
       "2               0.0            1.0       0.976249           0.975278   \n",
       "3               0.0            1.0       0.976249           0.975278   \n",
       "4               0.0            1.0       0.976249           0.975374   \n",
       "\n",
       "   Altimeter_hPa  idx  \n",
       "0       0.976302    0  \n",
       "1       0.976302    1  \n",
       "2       0.976302    2  \n",
       "3       0.976302    3  \n",
       "4       0.976302    4  "
      ]
     },
     "execution_count": 4,
     "metadata": {},
     "output_type": "execute_result"
    }
   ],
   "source": [
    "# Fitting MinMaxScaler()\n",
    "scaler = MinMaxScaler()\n",
    "idxes = X_les['idx']\n",
    "\n",
    "# Transform data and put it together with the same indices\n",
    "scaled = scaler.fit_transform(X_les)\n",
    "X_les = pd.DataFrame(scaled, columns = X_les.columns.tolist())\n",
    "X_les['idx'] = idxes\n",
    "# X_les.drop(['Unnamed: 0'], axis=1, inplace=True)\n",
    "X_les.head()"
   ]
  },
  {
   "cell_type": "markdown",
   "id": "81e2260a",
   "metadata": {},
   "source": [
    "# Data Preparation for RNN and CNN\n",
    "### Function to prepare X & y based on the n_past hours of observations and predicting n_future hours into the future\n",
    "- We assume the data to be continous\n",
    "- The idea behind this data preparation function is to introduce a sliding window over the time series data\n",
    "- We convert the time series dataset to be fit for a supervised learning problem\n",
    "    - For example, if it is snowing at 2pm in the day then it does seem highly likely that it will snow at 3pm as well \n",
    "- In the function below we add the following parameters:\n",
    "    - **n_past** : the number of hours from the past observations to consider for prediction\n",
    "    - **n_future** :the number of hours into the future that we aim to predict\n",
    "- `Preparing X with sliding windows`\n",
    "    - The above operation takes 10 features for every hour of observation\n",
    "    - After running the function, the number of observations for n_past hours gets stacked together to form a 2-D matrix, i.e., of shape $(nPast, 10)$\n",
    "    - We now get 2-D matrices for the number of sliding windows possible for the set of given observations (say, k)\n",
    "    - These 2-D matrices are stacked together to form a *tensor* X_train of shape $(k, nPast, 10)$\n",
    "- `Preparing y with sliding windows`\n",
    "    - We *assume*, that if at any hour **within** the window of now until the **n_future** hour, if the weather is that of snowing (LES_snowfall == 1), then it will snow and y will become 1, else it will be 0"
   ]
  },
  {
   "cell_type": "markdown",
   "id": "02410098",
   "metadata": {},
   "source": [
    "## Predicting 5 days (5 x 7 hours) in advance based on 3 day (3 x 7 hours) of historical data/observation"
   ]
  },
  {
   "cell_type": "code",
   "execution_count": 5,
   "id": "d278822b",
   "metadata": {},
   "outputs": [],
   "source": [
    "n_past = 35\n",
    "n_future = 21\n",
    "\n",
    "def data_prep(X_les, y_les, n_past = n_past, n_future = n_future):\n",
    "    X, y = list(), list()\n",
    "    for i in range(n_past, len(X_les) - n_future): \n",
    "        '''\n",
    "        1. Sliding window with 1 hour of past data and predicting 72 hours into the future\n",
    "        (n_past = 1, n_future = 72)\n",
    "        ==> X_les[ 1-1 : 1 ] = X_les[0 : 1]\n",
    "        ==> X_les[ 2-1: 2 ] = X_les[1 : 2]\n",
    "        ==> X_les[ 3-1: 3 ] = X_les[2 : 3] ...\n",
    "        \n",
    "        1. Sliding window with 24 hours of past data and predicting 72 hours into the future\n",
    "        (n_past = 24, n_future = 72)\n",
    "        ==> X_les[ 24-24 : 24 ] = X_les[0 : 24]\n",
    "        ==> X_les[ 25-24: 25 ] = X_les[1 : 25]\n",
    "        ==> X_les[ 26-24: 26 ] = X_les[2 : 26] ...\n",
    "        '''\n",
    "        # Preparing X\n",
    "        # Converting each row of features from the dataframe into an array\n",
    "        observations = np.array(X_les[i - n_past : i]) # 2D matrix\n",
    "        # Stacking into list X \n",
    "        X.append(observations) # Tensor formed\n",
    "        \n",
    "        # Preparing y\n",
    "        # Check if sum of all 0s and 1s from ith hour to i + future_hours > 0, then snowfall = 1\n",
    "        within_sum = y_les[i : i + n_future].sum()\n",
    "        if within_sum > 0:\n",
    "            y.append(1)\n",
    "        else:\n",
    "            y.append(0)\n",
    "        \n",
    "    return np.array(X), np.array(y)"
   ]
  },
  {
   "cell_type": "markdown",
   "id": "edff183f",
   "metadata": {},
   "source": [
    "## Rewriting converted images and resizing to 64 x 64 (RUN ONLY ONCE!!!!)\n",
    "The images are pretty large and take up a lot of memory and processing time for the network, so we decided to resize them into 64 x 64 pixels. Then, we convert the images into grayscale and save them for training. "
   ]
  },
  {
   "cell_type": "raw",
   "id": "55985495",
   "metadata": {},
   "source": [
    "from PIL import Image, ImageOps\n",
    "f = 'images'\n",
    "for file in tqdm(os.listdir(f)):\n",
    "    f_img = f+ \"/\"+file\n",
    "    img = Image.open(f_img)\n",
    "    img = img.resize((64,64))\n",
    "    img = ImageOps.grayscale(img)\n",
    "    img.save(f_img)"
   ]
  },
  {
   "cell_type": "markdown",
   "id": "7bc97ed8",
   "metadata": {},
   "source": [
    "### Viewing the images\n",
    "Let's check the saved images. "
   ]
  },
  {
   "cell_type": "code",
   "execution_count": 6,
   "id": "f02e1f8d",
   "metadata": {},
   "outputs": [
    {
     "data": {
      "text/plain": [
       "(64, 64)"
      ]
     },
     "execution_count": 6,
     "metadata": {},
     "output_type": "execute_result"
    }
   ],
   "source": [
    "a = plt.imread('images/0.png')\n",
    "a.shape"
   ]
  },
  {
   "cell_type": "code",
   "execution_count": 7,
   "id": "9b3fbb1f",
   "metadata": {},
   "outputs": [
    {
     "data": {
      "text/plain": [
       "<matplotlib.image.AxesImage at 0x7fd0837b7280>"
      ]
     },
     "execution_count": 7,
     "metadata": {},
     "output_type": "execute_result"
    },
    {
     "data": {
      "image/png": "[encoded data removed]",
      "text/plain": [
       "<Figure size 640x480 with 1 Axes>"
      ]
     },
     "metadata": {},
     "output_type": "display_data"
    }
   ],
   "source": [
    "plt.imshow(a)"
   ]
  },
  {
   "cell_type": "markdown",
   "id": "241b607d",
   "metadata": {},
   "source": [
    "## Load images to an array for training\n",
    "- We load the grayscale images in the form of array"
   ]
  },
  {
   "cell_type": "code",
   "execution_count": 8,
   "id": "4b4e016a",
   "metadata": {},
   "outputs": [],
   "source": [
    "from skimage.transform import rescale, resize, downscale_local_mean\n",
    "import cv2\n",
    "\n",
    "def load_images(idxs_list):\n",
    "    final_images = []\n",
    "    for i, idxs in enumerate(idxs_list):\n",
    "        images = []\n",
    "        for idx in idxs:\n",
    "            # im shape -> (64, 64)\n",
    "            im = cv2.imread(f'images/{int(idx)}.png')\n",
    "            # Storing 1 channel, since the images are grayscale\n",
    "            images.append(im[:,:,0]) \n",
    "            # images shape -> (35, 64, 64) \n",
    "        final_images.append(np.array(images)[:,:,:,None]) # Since CNN needs a color channel, here = 1\n",
    "        # final_images shape -> (N, 35, 64, 64, 1) ==> 1 for grayscale\n",
    "    final_images = np.array(final_images)  \n",
    "    return final_images"
   ]
  },
  {
   "cell_type": "markdown",
   "id": "f1d6f821",
   "metadata": {},
   "source": [
    "## Data formatting (RUN ONLY ONCE and save the tensors) !!!\n",
    "- Use the `data_prep` function to make sliding windows in our dataset\n",
    "- Split the data\n",
    "- Load and reshape the image data using the `load_images` function\n",
    "- Crop images to remove extra padding from the image\n",
    "- Save the transformed image and tabular data for training purpose"
   ]
  },
  {
   "cell_type": "raw",
   "id": "e1789283",
   "metadata": {},
   "source": [
    "from sklearn.model_selection import train_test_split\n",
    "from tensorflow.keras import regularizers\n",
    "\n",
    "# Split\n",
    "# Preparing data\n",
    "X, y = data_prep(X_les, y_les)\n",
    "X_train, X_test, y_train, y_test = train_test_split(X, y, test_size=0.25)\n",
    "\n",
    "# X_train -> (N, 35, 11) => 11 as idx is included\n",
    "# Get the last feature from all observations ('idx' feature)\n",
    "idxs = X_train[:,:,-1]\n",
    "# idxs -> (N, 35)\n",
    "idxs_val = X_test[:,:,-1]\n",
    "\n",
    "# Load images\n",
    "imgs_train = load_images(idxs)\n",
    "# imgs_train -> (N, 35, 64, 64, 1)\n",
    "imgs_test = load_images(idxs_val)\n",
    "\n",
    "# Crop the images to avoid zero padding across the lake (as not useful info)\n",
    "# NOTE: We already save the images such that the background is 0 padded instead of 1\n",
    "\n",
    "imgs_train = imgs_train[:,:,8:56,8:-8,:]\n",
    "# imgs_train -> (N, 35, 48, 48, 1)\n",
    "imgs_test = imgs_test[:,:,8:56,8:-8,:]\n",
    "\n",
    "# Saving data as .npy files\n",
    "np.save('images_test.npy', imgs_test)\n",
    "np.save('images_train.npy', imgs_train)\n",
    "\n",
    "# Removing the idx feature from the training data\n",
    "np.save('X_train.npy', X_train[:,:,:-1]) \n",
    "np.save('y_train.npy', y_train)\n",
    "\n",
    "# Removing the idx feature from the testing data\n",
    "np.save('X_test.npy', X_test[:,:,:-1])\n",
    "np.save('y_test.npy', y_test)"
   ]
  },
  {
   "cell_type": "markdown",
   "id": "54bf3e7e",
   "metadata": {},
   "source": [
    "## Read pre-formatted images and data"
   ]
  },
  {
   "cell_type": "code",
   "execution_count": 9,
   "id": "cda3f995",
   "metadata": {},
   "outputs": [],
   "source": [
    "imgs_test = np.load('images_test.npy')\n",
    "imgs_train =  np.load('images_train.npy')\n",
    "\n",
    "X_train = np.load('X_train.npy')\n",
    "y_train = np.load('y_train.npy')\n",
    "\n",
    "X_test = np.load('X_test.npy')\n",
    "y_test = np.load('y_test.npy')"
   ]
  },
  {
   "cell_type": "code",
   "execution_count": 10,
   "id": "56fda3bc",
   "metadata": {},
   "outputs": [
    {
     "name": "stdout",
     "output_type": "stream",
     "text": [
      "(10458, 35, 10) (10458,) (10458, 35, 48, 48, 1) (3486, 35, 10) (3486,) (3486, 35, 48, 48, 1)\n"
     ]
    }
   ],
   "source": [
    "print(X_train.shape, y_train.shape, imgs_train.shape, X_test.shape, y_test.shape, imgs_test.shape)"
   ]
  },
  {
   "cell_type": "markdown",
   "id": "d6c210e2",
   "metadata": {},
   "source": [
    "Let's plot the 0th image in 146th batch in grayscale:"
   ]
  },
  {
   "cell_type": "code",
   "execution_count": 11,
   "id": "b2961ad7",
   "metadata": {},
   "outputs": [
    {
     "data": {
      "text/plain": [
       "<matplotlib.image.AxesImage at 0x7fd074e476d0>"
      ]
     },
     "execution_count": 11,
     "metadata": {},
     "output_type": "execute_result"
    },
    {
     "data": {
      "image/png": "[encoded data removed]",
      "text/plain": [
       "<Figure size 640x480 with 1 Axes>"
      ]
     },
     "metadata": {},
     "output_type": "display_data"
    }
   ],
   "source": [
    "plt.imshow(imgs_test[146,0,:,:,0]) "
   ]
  },
  {
   "cell_type": "markdown",
   "id": "cb3446a3",
   "metadata": {},
   "source": [
    "Let's plot the 0th image in 21st batch in grayscale:"
   ]
  },
  {
   "cell_type": "code",
   "execution_count": 12,
   "id": "eb788cd8",
   "metadata": {},
   "outputs": [
    {
     "data": {
      "text/plain": [
       "<matplotlib.image.AxesImage at 0x7fd02f821580>"
      ]
     },
     "execution_count": 12,
     "metadata": {},
     "output_type": "execute_result"
    },
    {
     "data": {
      "image/png": "[encoded data removed]",
      "text/plain": [
       "<Figure size 640x480 with 1 Axes>"
      ]
     },
     "metadata": {},
     "output_type": "display_data"
    }
   ],
   "source": [
    "plt.imshow(imgs_train[21,0,:,:,0])"
   ]
  },
  {
   "cell_type": "markdown",
   "id": "5656f1d1",
   "metadata": {},
   "source": [
    "`Now we are ready to build our network!`"
   ]
  },
  {
   "cell_type": "markdown",
   "id": "b982ce80",
   "metadata": {},
   "source": [
    "# 1. RNN using numerical meteorological data"
   ]
  },
  {
   "cell_type": "markdown",
   "id": "c5cdd14e",
   "metadata": {},
   "source": [
    "### Long Short-Term Memory (LSTM)\n",
    "**About the architecture:**\n",
    "- The numerical meteorological data has 10 features and we take 35 hours (5 x 7 hours) of *n_past* observations into account in order to predict 3 days (3 x 7 hours) into the future\n",
    "    - This gives the data a shape of `35 x 10`\n",
    "- We enable two LSTM layers in our architecture \n",
    "    - For the first layer, we have 35 recurring LSTM blocks with each block having a dense layer of 16 neurons\n",
    "    - The first layer has a `return_sequence = True`, which leads to each block returning an output resulting in 35 activations of size 16 \n",
    "    - These become the input for the second LSTM layer\n",
    "    - The second LSTM layer also has recurring 35 LSTM blocks of dense layers of 16 neurons, but this time the `return_sequence = False`, which means that *only* the final block gives an output of size 16 x 1\n",
    "    - The final block has all the information that is necessary due to the forward propagation of information in LSTM through time\n",
    "    - The final block is connected to a dense layer of one neuron, which returns a value between 0 and 1 (due to the sigmoid function)\n",
    "- We use the `Adam` optimizer with a `learning_rate` of 0.01 and a `Binary Cross Entropy` function"
   ]
  },
  {
   "cell_type": "code",
   "execution_count": 13,
   "id": "32d8bc0b",
   "metadata": {},
   "outputs": [
    {
     "name": "stdout",
     "output_type": "stream",
     "text": [
      "Model: \"model\"\n",
      "_________________________________________________________________\n",
      " Layer (type)                Output Shape              Param #   \n",
      "=================================================================\n",
      " input_1 (InputLayer)        [(None, 35, 10)]          0         \n",
      "                                                                 \n",
      " lstm (LSTM)                 (None, 35, 16)            1728      \n",
      "                                                                 \n",
      " lstm_1 (LSTM)               (None, 16)                2112      \n",
      "                                                                 \n",
      " dense (Dense)               (None, 1)                 17        \n",
      "                                                                 \n",
      "=================================================================\n",
      "Total params: 3,857\n",
      "Trainable params: 3,857\n",
      "Non-trainable params: 0\n",
      "_________________________________________________________________\n"
     ]
    }
   ],
   "source": [
    "RNN = layers.LSTM\n",
    "data_shape = (35, 10)\n",
    "data = layers.Input(shape= data_shape)\n",
    "\n",
    "hidden_size = 16 # output shape of 1st LSTM block\n",
    "\n",
    "# Define layers in architecture\n",
    "lstm1 = RNN(hidden_size, input_shape=(35, data_shape[1]), return_sequences= True)(data)\n",
    "# Using second LSTM block on top of 1st LSTM block\n",
    "lstm2 = RNN(hidden_size, input_shape=(35, hidden_size), return_sequences= False)(lstm1)\n",
    "# Connecting output of 2nd LSTM block with a dense layer \n",
    "# Output dense layer with 1 neuron, since we have only two possible outputs - 0/1\n",
    "out = layers.Dense(1, activation='sigmoid')(lstm2)\n",
    "\n",
    "# Optimizer\n",
    "optim = Adam(learning_rate=0.01)\n",
    "model = Model(data, out)  \n",
    "\n",
    "# Compile and build model\n",
    "model.compile(loss='binary_crossentropy',\n",
    "              optimizer = optim,\n",
    "              metrics=['accuracy'])\n",
    "model.summary()"
   ]
  },
  {
   "cell_type": "markdown",
   "id": "e6504d3c",
   "metadata": {},
   "source": [
    "Check shape of `X_test`:"
   ]
  },
  {
   "cell_type": "code",
   "execution_count": 14,
   "id": "802e6d59",
   "metadata": {},
   "outputs": [
    {
     "data": {
      "text/plain": [
       "(3486, 35, 10)"
      ]
     },
     "execution_count": 14,
     "metadata": {},
     "output_type": "execute_result"
    }
   ],
   "source": [
    "X_test.shape"
   ]
  },
  {
   "cell_type": "markdown",
   "id": "f4d4d0ee",
   "metadata": {},
   "source": [
    "## Training the LSTM model"
   ]
  },
  {
   "cell_type": "code",
   "execution_count": 15,
   "id": "341dd5f1",
   "metadata": {},
   "outputs": [
    {
     "name": "stdout",
     "output_type": "stream",
     "text": [
      "\n",
      "--------------------------------------------------\n",
      "Iteration: 0\n",
      "105/105 [==============================] - 3s 10ms/step - loss: 0.4718 - accuracy: 0.7939 - val_loss: 0.5048 - val_accuracy: 0.7963\n",
      "\n",
      "--------------------------------------------------\n",
      "Iteration: 1\n",
      "105/105 [==============================] - 1s 6ms/step - loss: 0.4535 - accuracy: 0.7940 - val_loss: 0.4530 - val_accuracy: 0.7963\n",
      "\n",
      "--------------------------------------------------\n",
      "Iteration: 2\n",
      "105/105 [==============================] - 1s 5ms/step - loss: 0.4499 - accuracy: 0.7977 - val_loss: 0.4394 - val_accuracy: 0.7969\n",
      "\n",
      "--------------------------------------------------\n",
      "Iteration: 3\n",
      "105/105 [==============================] - 1s 5ms/step - loss: 0.4419 - accuracy: 0.7981 - val_loss: 0.4367 - val_accuracy: 0.8046\n",
      "Saving Model...\n"
     ]
    },
    {
     "name": "stderr",
     "output_type": "stream",
     "text": [
      "WARNING:absl:Found untraced functions such as lstm_cell_layer_call_fn, lstm_cell_layer_call_and_return_conditional_losses, lstm_cell_1_layer_call_fn, lstm_cell_1_layer_call_and_return_conditional_losses while saving (showing 4 of 4). These functions will not be directly callable after loading.\n"
     ]
    },
    {
     "name": "stdout",
     "output_type": "stream",
     "text": [
      "INFO:tensorflow:Assets written to: lstm-many-to-one-data-only/assets\n"
     ]
    },
    {
     "name": "stderr",
     "output_type": "stream",
     "text": [
      "INFO:tensorflow:Assets written to: lstm-many-to-one-data-only/assets\n"
     ]
    },
    {
     "name": "stdout",
     "output_type": "stream",
     "text": [
      "\n",
      "--------------------------------------------------\n",
      "Iteration: 4\n",
      "105/105 [==============================] - 1s 6ms/step - loss: 0.4389 - accuracy: 0.7993 - val_loss: 0.4271 - val_accuracy: 0.8150\n",
      "Saving Model...\n"
     ]
    },
    {
     "name": "stderr",
     "output_type": "stream",
     "text": [
      "WARNING:absl:Found untraced functions such as lstm_cell_layer_call_fn, lstm_cell_layer_call_and_return_conditional_losses, lstm_cell_1_layer_call_fn, lstm_cell_1_layer_call_and_return_conditional_losses while saving (showing 4 of 4). These functions will not be directly callable after loading.\n"
     ]
    },
    {
     "name": "stdout",
     "output_type": "stream",
     "text": [
      "INFO:tensorflow:Assets written to: lstm-many-to-one-data-only/assets\n"
     ]
    },
    {
     "name": "stderr",
     "output_type": "stream",
     "text": [
      "INFO:tensorflow:Assets written to: lstm-many-to-one-data-only/assets\n"
     ]
    },
    {
     "name": "stdout",
     "output_type": "stream",
     "text": [
      "\n",
      "--------------------------------------------------\n",
      "Iteration: 5\n",
      "105/105 [==============================] - 1s 6ms/step - loss: 0.4291 - accuracy: 0.8026 - val_loss: 0.4193 - val_accuracy: 0.8049\n",
      "\n",
      "--------------------------------------------------\n",
      "Iteration: 6\n",
      "105/105 [==============================] - 1s 6ms/step - loss: 0.4260 - accuracy: 0.8037 - val_loss: 0.4205 - val_accuracy: 0.8161\n",
      "Saving Model...\n"
     ]
    },
    {
     "name": "stderr",
     "output_type": "stream",
     "text": [
      "WARNING:absl:Found untraced functions such as lstm_cell_layer_call_fn, lstm_cell_layer_call_and_return_conditional_losses, lstm_cell_1_layer_call_fn, lstm_cell_1_layer_call_and_return_conditional_losses while saving (showing 4 of 4). These functions will not be directly callable after loading.\n"
     ]
    },
    {
     "name": "stdout",
     "output_type": "stream",
     "text": [
      "INFO:tensorflow:Assets written to: lstm-many-to-one-data-only/assets\n"
     ]
    },
    {
     "name": "stderr",
     "output_type": "stream",
     "text": [
      "INFO:tensorflow:Assets written to: lstm-many-to-one-data-only/assets\n"
     ]
    },
    {
     "name": "stdout",
     "output_type": "stream",
     "text": [
      "\n",
      "--------------------------------------------------\n",
      "Iteration: 7\n",
      "105/105 [==============================] - 1s 5ms/step - loss: 0.4214 - accuracy: 0.8029 - val_loss: 0.4130 - val_accuracy: 0.7995\n",
      "\n",
      "--------------------------------------------------\n",
      "Iteration: 8\n",
      "105/105 [==============================] - 1s 6ms/step - loss: 0.4253 - accuracy: 0.8042 - val_loss: 0.4106 - val_accuracy: 0.8135\n",
      "\n",
      "--------------------------------------------------\n",
      "Iteration: 9\n",
      "105/105 [==============================] - 1s 6ms/step - loss: 0.4192 - accuracy: 0.8017 - val_loss: 0.4121 - val_accuracy: 0.8084\n",
      "\n",
      "--------------------------------------------------\n",
      "Iteration: 10\n",
      "105/105 [==============================] - 1s 6ms/step - loss: 0.4061 - accuracy: 0.8086 - val_loss: 0.4031 - val_accuracy: 0.8193\n",
      "Saving Model...\n"
     ]
    },
    {
     "name": "stderr",
     "output_type": "stream",
     "text": [
      "WARNING:absl:Found untraced functions such as lstm_cell_layer_call_fn, lstm_cell_layer_call_and_return_conditional_losses, lstm_cell_1_layer_call_fn, lstm_cell_1_layer_call_and_return_conditional_losses while saving (showing 4 of 4). These functions will not be directly callable after loading.\n"
     ]
    },
    {
     "name": "stdout",
     "output_type": "stream",
     "text": [
      "INFO:tensorflow:Assets written to: lstm-many-to-one-data-only/assets\n"
     ]
    },
    {
     "name": "stderr",
     "output_type": "stream",
     "text": [
      "INFO:tensorflow:Assets written to: lstm-many-to-one-data-only/assets\n"
     ]
    },
    {
     "name": "stdout",
     "output_type": "stream",
     "text": [
      "\n",
      "--------------------------------------------------\n",
      "Iteration: 11\n",
      "105/105 [==============================] - 1s 5ms/step - loss: 0.3981 - accuracy: 0.8123 - val_loss: 0.3872 - val_accuracy: 0.8107\n",
      "\n",
      "--------------------------------------------------\n",
      "Iteration: 12\n",
      "105/105 [==============================] - 1s 6ms/step - loss: 0.3777 - accuracy: 0.8185 - val_loss: 0.3677 - val_accuracy: 0.8259\n",
      "Saving Model...\n"
     ]
    },
    {
     "name": "stderr",
     "output_type": "stream",
     "text": [
      "WARNING:absl:Found untraced functions such as lstm_cell_layer_call_fn, lstm_cell_layer_call_and_return_conditional_losses, lstm_cell_1_layer_call_fn, lstm_cell_1_layer_call_and_return_conditional_losses while saving (showing 4 of 4). These functions will not be directly callable after loading.\n"
     ]
    },
    {
     "name": "stdout",
     "output_type": "stream",
     "text": [
      "INFO:tensorflow:Assets written to: lstm-many-to-one-data-only/assets\n"
     ]
    },
    {
     "name": "stderr",
     "output_type": "stream",
     "text": [
      "INFO:tensorflow:Assets written to: lstm-many-to-one-data-only/assets\n"
     ]
    },
    {
     "name": "stdout",
     "output_type": "stream",
     "text": [
      "\n",
      "--------------------------------------------------\n",
      "Iteration: 13\n",
      "105/105 [==============================] - 1s 5ms/step - loss: 0.3764 - accuracy: 0.8188 - val_loss: 0.3663 - val_accuracy: 0.8296\n",
      "Saving Model...\n"
     ]
    },
    {
     "name": "stderr",
     "output_type": "stream",
     "text": [
      "WARNING:absl:Found untraced functions such as lstm_cell_layer_call_fn, lstm_cell_layer_call_and_return_conditional_losses, lstm_cell_1_layer_call_fn, lstm_cell_1_layer_call_and_return_conditional_losses while saving (showing 4 of 4). These functions will not be directly callable after loading.\n"
     ]
    },
    {
     "name": "stdout",
     "output_type": "stream",
     "text": [
      "INFO:tensorflow:Assets written to: lstm-many-to-one-data-only/assets\n"
     ]
    },
    {
     "name": "stderr",
     "output_type": "stream",
     "text": [
      "INFO:tensorflow:Assets written to: lstm-many-to-one-data-only/assets\n"
     ]
    },
    {
     "name": "stdout",
     "output_type": "stream",
     "text": [
      "\n",
      "--------------------------------------------------\n",
      "Iteration: 14\n",
      "105/105 [==============================] - 1s 5ms/step - loss: 0.3385 - accuracy: 0.8416 - val_loss: 0.3905 - val_accuracy: 0.8242\n",
      "\n",
      "--------------------------------------------------\n",
      "Iteration: 15\n",
      "105/105 [==============================] - 1s 6ms/step - loss: 0.3414 - accuracy: 0.8322 - val_loss: 0.3478 - val_accuracy: 0.8345\n",
      "Saving Model...\n"
     ]
    },
    {
     "name": "stderr",
     "output_type": "stream",
     "text": [
      "WARNING:absl:Found untraced functions such as lstm_cell_layer_call_fn, lstm_cell_layer_call_and_return_conditional_losses, lstm_cell_1_layer_call_fn, lstm_cell_1_layer_call_and_return_conditional_losses while saving (showing 4 of 4). These functions will not be directly callable after loading.\n"
     ]
    },
    {
     "name": "stdout",
     "output_type": "stream",
     "text": [
      "INFO:tensorflow:Assets written to: lstm-many-to-one-data-only/assets\n"
     ]
    },
    {
     "name": "stderr",
     "output_type": "stream",
     "text": [
      "INFO:tensorflow:Assets written to: lstm-many-to-one-data-only/assets\n"
     ]
    },
    {
     "name": "stdout",
     "output_type": "stream",
     "text": [
      "\n",
      "--------------------------------------------------\n",
      "Iteration: 16\n",
      "105/105 [==============================] - 1s 5ms/step - loss: 0.3182 - accuracy: 0.8495 - val_loss: 0.3659 - val_accuracy: 0.8411\n",
      "Saving Model...\n"
     ]
    },
    {
     "name": "stderr",
     "output_type": "stream",
     "text": [
      "WARNING:absl:Found untraced functions such as lstm_cell_layer_call_fn, lstm_cell_layer_call_and_return_conditional_losses, lstm_cell_1_layer_call_fn, lstm_cell_1_layer_call_and_return_conditional_losses while saving (showing 4 of 4). These functions will not be directly callable after loading.\n"
     ]
    },
    {
     "name": "stdout",
     "output_type": "stream",
     "text": [
      "INFO:tensorflow:Assets written to: lstm-many-to-one-data-only/assets\n"
     ]
    },
    {
     "name": "stderr",
     "output_type": "stream",
     "text": [
      "INFO:tensorflow:Assets written to: lstm-many-to-one-data-only/assets\n"
     ]
    },
    {
     "name": "stdout",
     "output_type": "stream",
     "text": [
      "\n",
      "--------------------------------------------------\n",
      "Iteration: 17\n",
      "105/105 [==============================] - 1s 5ms/step - loss: 0.2850 - accuracy: 0.8670 - val_loss: 0.2810 - val_accuracy: 0.8706\n",
      "Saving Model...\n"
     ]
    },
    {
     "name": "stderr",
     "output_type": "stream",
     "text": [
      "WARNING:absl:Found untraced functions such as lstm_cell_layer_call_fn, lstm_cell_layer_call_and_return_conditional_losses, lstm_cell_1_layer_call_fn, lstm_cell_1_layer_call_and_return_conditional_losses while saving (showing 4 of 4). These functions will not be directly callable after loading.\n"
     ]
    },
    {
     "name": "stdout",
     "output_type": "stream",
     "text": [
      "INFO:tensorflow:Assets written to: lstm-many-to-one-data-only/assets\n"
     ]
    },
    {
     "name": "stderr",
     "output_type": "stream",
     "text": [
      "INFO:tensorflow:Assets written to: lstm-many-to-one-data-only/assets\n"
     ]
    },
    {
     "name": "stdout",
     "output_type": "stream",
     "text": [
      "\n",
      "--------------------------------------------------\n",
      "Iteration: 18\n",
      "105/105 [==============================] - 1s 5ms/step - loss: 0.2714 - accuracy: 0.8788 - val_loss: 0.2722 - val_accuracy: 0.8801\n",
      "Saving Model...\n"
     ]
    },
    {
     "name": "stderr",
     "output_type": "stream",
     "text": [
      "WARNING:absl:Found untraced functions such as lstm_cell_layer_call_fn, lstm_cell_layer_call_and_return_conditional_losses, lstm_cell_1_layer_call_fn, lstm_cell_1_layer_call_and_return_conditional_losses while saving (showing 4 of 4). These functions will not be directly callable after loading.\n"
     ]
    },
    {
     "name": "stdout",
     "output_type": "stream",
     "text": [
      "INFO:tensorflow:Assets written to: lstm-many-to-one-data-only/assets\n"
     ]
    },
    {
     "name": "stderr",
     "output_type": "stream",
     "text": [
      "INFO:tensorflow:Assets written to: lstm-many-to-one-data-only/assets\n"
     ]
    },
    {
     "name": "stdout",
     "output_type": "stream",
     "text": [
      "\n",
      "--------------------------------------------------\n",
      "Iteration: 19\n",
      "105/105 [==============================] - 1s 5ms/step - loss: 0.2575 - accuracy: 0.8821 - val_loss: 0.2905 - val_accuracy: 0.8597\n",
      "\n",
      "--------------------------------------------------\n",
      "Iteration: 20\n",
      "105/105 [==============================] - 1s 5ms/step - loss: 0.2424 - accuracy: 0.8949 - val_loss: 0.2713 - val_accuracy: 0.8807\n",
      "Saving Model...\n"
     ]
    },
    {
     "name": "stderr",
     "output_type": "stream",
     "text": [
      "WARNING:absl:Found untraced functions such as lstm_cell_layer_call_fn, lstm_cell_layer_call_and_return_conditional_losses, lstm_cell_1_layer_call_fn, lstm_cell_1_layer_call_and_return_conditional_losses while saving (showing 4 of 4). These functions will not be directly callable after loading.\n"
     ]
    },
    {
     "name": "stdout",
     "output_type": "stream",
     "text": [
      "INFO:tensorflow:Assets written to: lstm-many-to-one-data-only/assets\n"
     ]
    },
    {
     "name": "stderr",
     "output_type": "stream",
     "text": [
      "INFO:tensorflow:Assets written to: lstm-many-to-one-data-only/assets\n"
     ]
    },
    {
     "name": "stdout",
     "output_type": "stream",
     "text": [
      "\n",
      "--------------------------------------------------\n",
      "Iteration: 21\n",
      "105/105 [==============================] - 1s 5ms/step - loss: 0.2115 - accuracy: 0.9132 - val_loss: 0.2368 - val_accuracy: 0.8916\n",
      "Saving Model...\n"
     ]
    },
    {
     "name": "stderr",
     "output_type": "stream",
     "text": [
      "WARNING:absl:Found untraced functions such as lstm_cell_layer_call_fn, lstm_cell_layer_call_and_return_conditional_losses, lstm_cell_1_layer_call_fn, lstm_cell_1_layer_call_and_return_conditional_losses while saving (showing 4 of 4). These functions will not be directly callable after loading.\n"
     ]
    },
    {
     "name": "stdout",
     "output_type": "stream",
     "text": [
      "INFO:tensorflow:Assets written to: lstm-many-to-one-data-only/assets\n"
     ]
    },
    {
     "name": "stderr",
     "output_type": "stream",
     "text": [
      "INFO:tensorflow:Assets written to: lstm-many-to-one-data-only/assets\n"
     ]
    },
    {
     "name": "stdout",
     "output_type": "stream",
     "text": [
      "\n",
      "--------------------------------------------------\n",
      "Iteration: 22\n",
      "105/105 [==============================] - 1s 5ms/step - loss: 0.2102 - accuracy: 0.9115 - val_loss: 0.2736 - val_accuracy: 0.8732\n",
      "\n",
      "--------------------------------------------------\n",
      "Iteration: 23\n",
      "105/105 [==============================] - 1s 5ms/step - loss: 0.2691 - accuracy: 0.8830 - val_loss: 0.4848 - val_accuracy: 0.7960\n",
      "\n",
      "--------------------------------------------------\n",
      "Iteration: 24\n",
      "105/105 [==============================] - 1s 6ms/step - loss: 0.4745 - accuracy: 0.7932 - val_loss: 0.4497 - val_accuracy: 0.7963\n",
      "\n",
      "--------------------------------------------------\n",
      "Iteration: 25\n",
      "105/105 [==============================] - 1s 5ms/step - loss: 0.4520 - accuracy: 0.7927 - val_loss: 0.4346 - val_accuracy: 0.8024\n",
      "\n",
      "--------------------------------------------------\n",
      "Iteration: 26\n",
      "105/105 [==============================] - 1s 5ms/step - loss: 0.4401 - accuracy: 0.7975 - val_loss: 0.4288 - val_accuracy: 0.8035\n",
      "\n",
      "--------------------------------------------------\n",
      "Iteration: 27\n",
      "105/105 [==============================] - 1s 5ms/step - loss: 0.4289 - accuracy: 0.7969 - val_loss: 0.4119 - val_accuracy: 0.8012\n",
      "\n",
      "--------------------------------------------------\n",
      "Iteration: 28\n",
      "105/105 [==============================] - 1s 5ms/step - loss: 0.4194 - accuracy: 0.7967 - val_loss: 0.4140 - val_accuracy: 0.8087\n",
      "\n",
      "--------------------------------------------------\n",
      "Iteration: 29\n",
      "105/105 [==============================] - 1s 6ms/step - loss: 0.4117 - accuracy: 0.8019 - val_loss: 0.4136 - val_accuracy: 0.8127\n",
      "\n",
      "--------------------------------------------------\n",
      "Iteration: 30\n",
      "105/105 [==============================] - 1s 5ms/step - loss: 0.4101 - accuracy: 0.8012 - val_loss: 0.3979 - val_accuracy: 0.8110\n",
      "\n",
      "--------------------------------------------------\n",
      "Iteration: 31\n",
      "105/105 [==============================] - 1s 5ms/step - loss: 0.3962 - accuracy: 0.8072 - val_loss: 0.4148 - val_accuracy: 0.8041\n",
      "\n",
      "--------------------------------------------------\n",
      "Iteration: 32\n",
      "105/105 [==============================] - 1s 6ms/step - loss: 0.3928 - accuracy: 0.8115 - val_loss: 0.3912 - val_accuracy: 0.8161\n",
      "\n",
      "--------------------------------------------------\n",
      "Iteration: 33\n",
      "105/105 [==============================] - 1s 6ms/step - loss: 0.4020 - accuracy: 0.8112 - val_loss: 0.3934 - val_accuracy: 0.8078\n",
      "\n",
      "--------------------------------------------------\n",
      "Iteration: 34\n",
      "105/105 [==============================] - 1s 6ms/step - loss: 0.3817 - accuracy: 0.8157 - val_loss: 0.3817 - val_accuracy: 0.8250\n",
      "\n",
      "--------------------------------------------------\n",
      "Iteration: 35\n",
      "105/105 [==============================] - 1s 5ms/step - loss: 0.3711 - accuracy: 0.8210 - val_loss: 0.3750 - val_accuracy: 0.8242\n",
      "\n",
      "--------------------------------------------------\n",
      "Iteration: 36\n",
      "105/105 [==============================] - 1s 5ms/step - loss: 0.3736 - accuracy: 0.8199 - val_loss: 0.3681 - val_accuracy: 0.8282\n",
      "\n",
      "--------------------------------------------------\n",
      "Iteration: 37\n",
      "105/105 [==============================] - 1s 5ms/step - loss: 0.3637 - accuracy: 0.8236 - val_loss: 0.3656 - val_accuracy: 0.8267\n",
      "\n",
      "--------------------------------------------------\n",
      "Iteration: 38\n",
      "105/105 [==============================] - 1s 6ms/step - loss: 0.3623 - accuracy: 0.8243 - val_loss: 0.3830 - val_accuracy: 0.8273\n",
      "\n",
      "--------------------------------------------------\n",
      "Iteration: 39\n",
      "105/105 [==============================] - 1s 6ms/step - loss: 0.3466 - accuracy: 0.8330 - val_loss: 0.3459 - val_accuracy: 0.8385\n",
      "\n",
      "--------------------------------------------------\n",
      "Iteration: 40\n",
      "105/105 [==============================] - 1s 5ms/step - loss: 0.3624 - accuracy: 0.8242 - val_loss: 0.3494 - val_accuracy: 0.8345\n",
      "\n",
      "--------------------------------------------------\n",
      "Iteration: 41\n",
      "105/105 [==============================] - 1s 6ms/step - loss: 0.3426 - accuracy: 0.8329 - val_loss: 0.3706 - val_accuracy: 0.8250\n",
      "\n",
      "--------------------------------------------------\n",
      "Iteration: 42\n",
      "105/105 [==============================] - 1s 5ms/step - loss: 0.3384 - accuracy: 0.8334 - val_loss: 0.3431 - val_accuracy: 0.8394\n",
      "\n",
      "--------------------------------------------------\n",
      "Iteration: 43\n",
      "105/105 [==============================] - 1s 5ms/step - loss: 0.3377 - accuracy: 0.8328 - val_loss: 0.3385 - val_accuracy: 0.8379\n",
      "\n",
      "--------------------------------------------------\n",
      "Iteration: 44\n",
      "105/105 [==============================] - 1s 6ms/step - loss: 0.3208 - accuracy: 0.8438 - val_loss: 0.3123 - val_accuracy: 0.8566\n",
      "\n",
      "--------------------------------------------------\n",
      "Iteration: 45\n",
      "105/105 [==============================] - 1s 6ms/step - loss: 0.3257 - accuracy: 0.8372 - val_loss: 0.3740 - val_accuracy: 0.8227\n",
      "\n",
      "--------------------------------------------------\n",
      "Iteration: 46\n",
      "105/105 [==============================] - 1s 6ms/step - loss: 0.3191 - accuracy: 0.8440 - val_loss: 0.3095 - val_accuracy: 0.8511\n",
      "\n",
      "--------------------------------------------------\n",
      "Iteration: 47\n",
      "105/105 [==============================] - 1s 5ms/step - loss: 0.3162 - accuracy: 0.8417 - val_loss: 0.3269 - val_accuracy: 0.8391\n",
      "\n",
      "--------------------------------------------------\n",
      "Iteration: 48\n",
      "105/105 [==============================] - 1s 6ms/step - loss: 0.2914 - accuracy: 0.8567 - val_loss: 0.2966 - val_accuracy: 0.8548\n",
      "\n",
      "--------------------------------------------------\n",
      "Iteration: 49\n",
      "105/105 [==============================] - 1s 6ms/step - loss: 0.3087 - accuracy: 0.8497 - val_loss: 0.3066 - val_accuracy: 0.8626\n",
      "\n",
      "--------------------------------------------------\n",
      "Iteration: 50\n",
      "105/105 [==============================] - 1s 5ms/step - loss: 0.2932 - accuracy: 0.8534 - val_loss: 0.3036 - val_accuracy: 0.8577\n",
      "\n",
      "--------------------------------------------------\n",
      "Iteration: 51\n",
      "105/105 [==============================] - 1s 5ms/step - loss: 0.2790 - accuracy: 0.8621 - val_loss: 0.2679 - val_accuracy: 0.8715\n",
      "\n",
      "--------------------------------------------------\n",
      "Iteration: 52\n",
      "105/105 [==============================] - 1s 6ms/step - loss: 0.2687 - accuracy: 0.8642 - val_loss: 0.3122 - val_accuracy: 0.8425\n",
      "\n",
      "--------------------------------------------------\n",
      "Iteration: 53\n",
      "105/105 [==============================] - 1s 5ms/step - loss: 0.2770 - accuracy: 0.8657 - val_loss: 0.2578 - val_accuracy: 0.8755\n",
      "\n",
      "--------------------------------------------------\n",
      "Iteration: 54\n",
      "105/105 [==============================] - 1s 5ms/step - loss: 0.2665 - accuracy: 0.8683 - val_loss: 0.2558 - val_accuracy: 0.8769\n",
      "\n",
      "--------------------------------------------------\n",
      "Iteration: 55\n",
      "105/105 [==============================] - 1s 5ms/step - loss: 0.2556 - accuracy: 0.8763 - val_loss: 0.3180 - val_accuracy: 0.8451\n",
      "\n",
      "--------------------------------------------------\n",
      "Iteration: 56\n",
      "105/105 [==============================] - 1s 6ms/step - loss: 0.2524 - accuracy: 0.8759 - val_loss: 0.2439 - val_accuracy: 0.8778\n",
      "\n",
      "--------------------------------------------------\n",
      "Iteration: 57\n",
      "105/105 [==============================] - 1s 5ms/step - loss: 0.2589 - accuracy: 0.8746 - val_loss: 0.2636 - val_accuracy: 0.8821\n",
      "\n",
      "--------------------------------------------------\n",
      "Iteration: 58\n",
      "105/105 [==============================] - 1s 6ms/step - loss: 0.2376 - accuracy: 0.8839 - val_loss: 0.2424 - val_accuracy: 0.8881\n",
      "\n",
      "--------------------------------------------------\n",
      "Iteration: 59\n",
      "105/105 [==============================] - 1s 5ms/step - loss: 0.2373 - accuracy: 0.8876 - val_loss: 0.2362 - val_accuracy: 0.8944\n",
      "Saving Model...\n"
     ]
    },
    {
     "name": "stderr",
     "output_type": "stream",
     "text": [
      "WARNING:absl:Found untraced functions such as lstm_cell_layer_call_fn, lstm_cell_layer_call_and_return_conditional_losses, lstm_cell_1_layer_call_fn, lstm_cell_1_layer_call_and_return_conditional_losses while saving (showing 4 of 4). These functions will not be directly callable after loading.\n"
     ]
    },
    {
     "name": "stdout",
     "output_type": "stream",
     "text": [
      "INFO:tensorflow:Assets written to: lstm-many-to-one-data-only/assets\n"
     ]
    },
    {
     "name": "stderr",
     "output_type": "stream",
     "text": [
      "INFO:tensorflow:Assets written to: lstm-many-to-one-data-only/assets\n"
     ]
    },
    {
     "name": "stdout",
     "output_type": "stream",
     "text": [
      "\n",
      "--------------------------------------------------\n",
      "Iteration: 60\n",
      "105/105 [==============================] - 1s 5ms/step - loss: 0.2129 - accuracy: 0.8989 - val_loss: 0.2433 - val_accuracy: 0.8835\n",
      "\n",
      "--------------------------------------------------\n",
      "Iteration: 61\n",
      "105/105 [==============================] - 1s 5ms/step - loss: 0.2105 - accuracy: 0.9008 - val_loss: 0.2109 - val_accuracy: 0.9002\n",
      "Saving Model...\n"
     ]
    },
    {
     "name": "stderr",
     "output_type": "stream",
     "text": [
      "WARNING:absl:Found untraced functions such as lstm_cell_layer_call_fn, lstm_cell_layer_call_and_return_conditional_losses, lstm_cell_1_layer_call_fn, lstm_cell_1_layer_call_and_return_conditional_losses while saving (showing 4 of 4). These functions will not be directly callable after loading.\n"
     ]
    },
    {
     "name": "stdout",
     "output_type": "stream",
     "text": [
      "INFO:tensorflow:Assets written to: lstm-many-to-one-data-only/assets\n"
     ]
    },
    {
     "name": "stderr",
     "output_type": "stream",
     "text": [
      "INFO:tensorflow:Assets written to: lstm-many-to-one-data-only/assets\n"
     ]
    },
    {
     "name": "stdout",
     "output_type": "stream",
     "text": [
      "\n",
      "--------------------------------------------------\n",
      "Iteration: 62\n",
      "105/105 [==============================] - 1s 6ms/step - loss: 0.1999 - accuracy: 0.9078 - val_loss: 0.2602 - val_accuracy: 0.8867\n",
      "\n",
      "--------------------------------------------------\n",
      "Iteration: 63\n",
      "105/105 [==============================] - 1s 5ms/step - loss: 0.1926 - accuracy: 0.9100 - val_loss: 0.2599 - val_accuracy: 0.8878\n",
      "\n",
      "--------------------------------------------------\n",
      "Iteration: 64\n",
      "105/105 [==============================] - 1s 6ms/step - loss: 0.1962 - accuracy: 0.9065 - val_loss: 0.2025 - val_accuracy: 0.9088\n",
      "Saving Model...\n"
     ]
    },
    {
     "name": "stderr",
     "output_type": "stream",
     "text": [
      "WARNING:absl:Found untraced functions such as lstm_cell_layer_call_fn, lstm_cell_layer_call_and_return_conditional_losses, lstm_cell_1_layer_call_fn, lstm_cell_1_layer_call_and_return_conditional_losses while saving (showing 4 of 4). These functions will not be directly callable after loading.\n"
     ]
    },
    {
     "name": "stdout",
     "output_type": "stream",
     "text": [
      "INFO:tensorflow:Assets written to: lstm-many-to-one-data-only/assets\n"
     ]
    },
    {
     "name": "stderr",
     "output_type": "stream",
     "text": [
      "INFO:tensorflow:Assets written to: lstm-many-to-one-data-only/assets\n"
     ]
    },
    {
     "name": "stdout",
     "output_type": "stream",
     "text": [
      "\n",
      "--------------------------------------------------\n",
      "Iteration: 65\n",
      "105/105 [==============================] - 1s 5ms/step - loss: 0.1694 - accuracy: 0.9219 - val_loss: 0.1958 - val_accuracy: 0.9171\n",
      "Saving Model...\n"
     ]
    },
    {
     "name": "stderr",
     "output_type": "stream",
     "text": [
      "WARNING:absl:Found untraced functions such as lstm_cell_layer_call_fn, lstm_cell_layer_call_and_return_conditional_losses, lstm_cell_1_layer_call_fn, lstm_cell_1_layer_call_and_return_conditional_losses while saving (showing 4 of 4). These functions will not be directly callable after loading.\n"
     ]
    },
    {
     "name": "stdout",
     "output_type": "stream",
     "text": [
      "INFO:tensorflow:Assets written to: lstm-many-to-one-data-only/assets\n"
     ]
    },
    {
     "name": "stderr",
     "output_type": "stream",
     "text": [
      "INFO:tensorflow:Assets written to: lstm-many-to-one-data-only/assets\n"
     ]
    },
    {
     "name": "stdout",
     "output_type": "stream",
     "text": [
      "\n",
      "--------------------------------------------------\n",
      "Iteration: 66\n",
      "105/105 [==============================] - 1s 5ms/step - loss: 0.1557 - accuracy: 0.9296 - val_loss: 0.1979 - val_accuracy: 0.9137\n",
      "\n",
      "--------------------------------------------------\n",
      "Iteration: 67\n",
      "105/105 [==============================] - 1s 6ms/step - loss: 0.2079 - accuracy: 0.9056 - val_loss: 0.2073 - val_accuracy: 0.9068\n",
      "\n",
      "--------------------------------------------------\n",
      "Iteration: 68\n",
      "105/105 [==============================] - 1s 5ms/step - loss: 0.1606 - accuracy: 0.9247 - val_loss: 0.1967 - val_accuracy: 0.9111\n",
      "\n",
      "--------------------------------------------------\n",
      "Iteration: 69\n",
      "105/105 [==============================] - 1s 5ms/step - loss: 0.2017 - accuracy: 0.9121 - val_loss: 0.2636 - val_accuracy: 0.8898\n",
      "\n",
      "--------------------------------------------------\n",
      "Iteration: 70\n",
      "105/105 [==============================] - 1s 5ms/step - loss: 0.1549 - accuracy: 0.9316 - val_loss: 0.2079 - val_accuracy: 0.9065\n",
      "\n",
      "--------------------------------------------------\n",
      "Iteration: 71\n",
      "105/105 [==============================] - 1s 6ms/step - loss: 0.1458 - accuracy: 0.9370 - val_loss: 0.2022 - val_accuracy: 0.9197\n",
      "Saving Model...\n"
     ]
    },
    {
     "name": "stderr",
     "output_type": "stream",
     "text": [
      "WARNING:absl:Found untraced functions such as lstm_cell_layer_call_fn, lstm_cell_layer_call_and_return_conditional_losses, lstm_cell_1_layer_call_fn, lstm_cell_1_layer_call_and_return_conditional_losses while saving (showing 4 of 4). These functions will not be directly callable after loading.\n"
     ]
    },
    {
     "name": "stdout",
     "output_type": "stream",
     "text": [
      "INFO:tensorflow:Assets written to: lstm-many-to-one-data-only/assets\n"
     ]
    },
    {
     "name": "stderr",
     "output_type": "stream",
     "text": [
      "INFO:tensorflow:Assets written to: lstm-many-to-one-data-only/assets\n"
     ]
    },
    {
     "name": "stdout",
     "output_type": "stream",
     "text": [
      "\n",
      "--------------------------------------------------\n",
      "Iteration: 72\n",
      "105/105 [==============================] - 1s 5ms/step - loss: 0.1415 - accuracy: 0.9381 - val_loss: 0.2115 - val_accuracy: 0.9119\n",
      "\n",
      "--------------------------------------------------\n",
      "Iteration: 73\n",
      "105/105 [==============================] - 1s 5ms/step - loss: 0.1573 - accuracy: 0.9312 - val_loss: 0.1680 - val_accuracy: 0.9323\n",
      "Saving Model...\n"
     ]
    },
    {
     "name": "stderr",
     "output_type": "stream",
     "text": [
      "WARNING:absl:Found untraced functions such as lstm_cell_layer_call_fn, lstm_cell_layer_call_and_return_conditional_losses, lstm_cell_1_layer_call_fn, lstm_cell_1_layer_call_and_return_conditional_losses while saving (showing 4 of 4). These functions will not be directly callable after loading.\n"
     ]
    },
    {
     "name": "stdout",
     "output_type": "stream",
     "text": [
      "INFO:tensorflow:Assets written to: lstm-many-to-one-data-only/assets\n"
     ]
    },
    {
     "name": "stderr",
     "output_type": "stream",
     "text": [
      "INFO:tensorflow:Assets written to: lstm-many-to-one-data-only/assets\n"
     ]
    },
    {
     "name": "stdout",
     "output_type": "stream",
     "text": [
      "\n",
      "--------------------------------------------------\n",
      "Iteration: 74\n",
      "105/105 [==============================] - 1s 6ms/step - loss: 0.1249 - accuracy: 0.9465 - val_loss: 0.1803 - val_accuracy: 0.9214\n",
      "\n",
      "--------------------------------------------------\n",
      "Iteration: 75\n",
      "105/105 [==============================] - 1s 5ms/step - loss: 0.1386 - accuracy: 0.9385 - val_loss: 0.1770 - val_accuracy: 0.9225\n",
      "\n",
      "--------------------------------------------------\n",
      "Iteration: 76\n",
      "105/105 [==============================] - 1s 5ms/step - loss: 0.1364 - accuracy: 0.9403 - val_loss: 0.1678 - val_accuracy: 0.9297\n",
      "\n",
      "--------------------------------------------------\n",
      "Iteration: 77\n",
      "105/105 [==============================] - 1s 5ms/step - loss: 0.1508 - accuracy: 0.9357 - val_loss: 0.1554 - val_accuracy: 0.9355\n",
      "Saving Model...\n"
     ]
    },
    {
     "name": "stderr",
     "output_type": "stream",
     "text": [
      "WARNING:absl:Found untraced functions such as lstm_cell_layer_call_fn, lstm_cell_layer_call_and_return_conditional_losses, lstm_cell_1_layer_call_fn, lstm_cell_1_layer_call_and_return_conditional_losses while saving (showing 4 of 4). These functions will not be directly callable after loading.\n"
     ]
    },
    {
     "name": "stdout",
     "output_type": "stream",
     "text": [
      "INFO:tensorflow:Assets written to: lstm-many-to-one-data-only/assets\n"
     ]
    },
    {
     "name": "stderr",
     "output_type": "stream",
     "text": [
      "INFO:tensorflow:Assets written to: lstm-many-to-one-data-only/assets\n"
     ]
    },
    {
     "name": "stdout",
     "output_type": "stream",
     "text": [
      "\n",
      "--------------------------------------------------\n",
      "Iteration: 78\n",
      "105/105 [==============================] - 1s 5ms/step - loss: 0.1309 - accuracy: 0.9449 - val_loss: 0.1604 - val_accuracy: 0.9355\n",
      "\n",
      "--------------------------------------------------\n",
      "Iteration: 79\n",
      "105/105 [==============================] - 1s 5ms/step - loss: 0.1145 - accuracy: 0.9514 - val_loss: 0.2346 - val_accuracy: 0.9148\n",
      "\n",
      "--------------------------------------------------\n",
      "Iteration: 80\n",
      "105/105 [==============================] - 1s 6ms/step - loss: 0.1774 - accuracy: 0.9269 - val_loss: 0.1618 - val_accuracy: 0.9309\n",
      "\n",
      "--------------------------------------------------\n",
      "Iteration: 81\n",
      "105/105 [==============================] - 1s 5ms/step - loss: 0.1731 - accuracy: 0.9281 - val_loss: 0.2017 - val_accuracy: 0.9114\n",
      "\n",
      "--------------------------------------------------\n",
      "Iteration: 82\n",
      "105/105 [==============================] - 1s 6ms/step - loss: 0.1214 - accuracy: 0.9502 - val_loss: 0.1600 - val_accuracy: 0.9375\n",
      "Saving Model...\n"
     ]
    },
    {
     "name": "stderr",
     "output_type": "stream",
     "text": [
      "WARNING:absl:Found untraced functions such as lstm_cell_layer_call_fn, lstm_cell_layer_call_and_return_conditional_losses, lstm_cell_1_layer_call_fn, lstm_cell_1_layer_call_and_return_conditional_losses while saving (showing 4 of 4). These functions will not be directly callable after loading.\n"
     ]
    },
    {
     "name": "stdout",
     "output_type": "stream",
     "text": [
      "INFO:tensorflow:Assets written to: lstm-many-to-one-data-only/assets\n"
     ]
    },
    {
     "name": "stderr",
     "output_type": "stream",
     "text": [
      "INFO:tensorflow:Assets written to: lstm-many-to-one-data-only/assets\n"
     ]
    },
    {
     "name": "stdout",
     "output_type": "stream",
     "text": [
      "\n",
      "--------------------------------------------------\n",
      "Iteration: 83\n",
      "105/105 [==============================] - 1s 6ms/step - loss: 0.1299 - accuracy: 0.9466 - val_loss: 0.2129 - val_accuracy: 0.9131\n",
      "\n",
      "--------------------------------------------------\n",
      "Iteration: 84\n",
      "105/105 [==============================] - 1s 6ms/step - loss: 0.1549 - accuracy: 0.9383 - val_loss: 0.1509 - val_accuracy: 0.9375\n",
      "\n",
      "--------------------------------------------------\n",
      "Iteration: 85\n",
      "105/105 [==============================] - 1s 6ms/step - loss: 0.1040 - accuracy: 0.9563 - val_loss: 0.1430 - val_accuracy: 0.9446\n",
      "Saving Model...\n"
     ]
    },
    {
     "name": "stderr",
     "output_type": "stream",
     "text": [
      "WARNING:absl:Found untraced functions such as lstm_cell_layer_call_fn, lstm_cell_layer_call_and_return_conditional_losses, lstm_cell_1_layer_call_fn, lstm_cell_1_layer_call_and_return_conditional_losses while saving (showing 4 of 4). These functions will not be directly callable after loading.\n"
     ]
    },
    {
     "name": "stdout",
     "output_type": "stream",
     "text": [
      "INFO:tensorflow:Assets written to: lstm-many-to-one-data-only/assets\n"
     ]
    },
    {
     "name": "stderr",
     "output_type": "stream",
     "text": [
      "INFO:tensorflow:Assets written to: lstm-many-to-one-data-only/assets\n"
     ]
    },
    {
     "name": "stdout",
     "output_type": "stream",
     "text": [
      "\n",
      "--------------------------------------------------\n",
      "Iteration: 86\n",
      "105/105 [==============================] - 1s 5ms/step - loss: 0.1206 - accuracy: 0.9489 - val_loss: 0.1710 - val_accuracy: 0.9398\n",
      "\n",
      "--------------------------------------------------\n",
      "Iteration: 87\n",
      "105/105 [==============================] - 1s 5ms/step - loss: 0.1087 - accuracy: 0.9571 - val_loss: 0.1646 - val_accuracy: 0.9357\n",
      "\n",
      "--------------------------------------------------\n",
      "Iteration: 88\n",
      "105/105 [==============================] - 1s 5ms/step - loss: 0.1006 - accuracy: 0.9611 - val_loss: 0.1536 - val_accuracy: 0.9429\n",
      "\n",
      "--------------------------------------------------\n",
      "Iteration: 89\n",
      "105/105 [==============================] - 1s 5ms/step - loss: 0.2074 - accuracy: 0.9220 - val_loss: 0.2625 - val_accuracy: 0.8864\n",
      "\n",
      "--------------------------------------------------\n",
      "Iteration: 90\n",
      "105/105 [==============================] - 1s 5ms/step - loss: 0.1269 - accuracy: 0.9500 - val_loss: 0.1554 - val_accuracy: 0.9372\n",
      "\n",
      "--------------------------------------------------\n",
      "Iteration: 91\n",
      "105/105 [==============================] - 1s 6ms/step - loss: 0.1213 - accuracy: 0.9543 - val_loss: 0.1486 - val_accuracy: 0.9395\n",
      "\n",
      "--------------------------------------------------\n",
      "Iteration: 92\n",
      "105/105 [==============================] - 1s 6ms/step - loss: 0.1070 - accuracy: 0.9559 - val_loss: 0.1458 - val_accuracy: 0.9432\n",
      "\n",
      "--------------------------------------------------\n",
      "Iteration: 93\n",
      "105/105 [==============================] - 1s 5ms/step - loss: 0.0906 - accuracy: 0.9637 - val_loss: 0.1597 - val_accuracy: 0.9355\n",
      "\n",
      "--------------------------------------------------\n",
      "Iteration: 94\n",
      "105/105 [==============================] - 1s 5ms/step - loss: 0.0816 - accuracy: 0.9702 - val_loss: 0.1338 - val_accuracy: 0.9492\n",
      "Saving Model...\n"
     ]
    },
    {
     "name": "stderr",
     "output_type": "stream",
     "text": [
      "WARNING:absl:Found untraced functions such as lstm_cell_layer_call_fn, lstm_cell_layer_call_and_return_conditional_losses, lstm_cell_1_layer_call_fn, lstm_cell_1_layer_call_and_return_conditional_losses while saving (showing 4 of 4). These functions will not be directly callable after loading.\n"
     ]
    },
    {
     "name": "stdout",
     "output_type": "stream",
     "text": [
      "INFO:tensorflow:Assets written to: lstm-many-to-one-data-only/assets\n"
     ]
    },
    {
     "name": "stderr",
     "output_type": "stream",
     "text": [
      "INFO:tensorflow:Assets written to: lstm-many-to-one-data-only/assets\n"
     ]
    },
    {
     "name": "stdout",
     "output_type": "stream",
     "text": [
      "\n",
      "--------------------------------------------------\n",
      "Iteration: 95\n",
      "105/105 [==============================] - 1s 6ms/step - loss: 0.0881 - accuracy: 0.9656 - val_loss: 0.1786 - val_accuracy: 0.9283\n",
      "\n",
      "--------------------------------------------------\n",
      "Iteration: 96\n",
      "105/105 [==============================] - 1s 6ms/step - loss: 0.0973 - accuracy: 0.9617 - val_loss: 0.1565 - val_accuracy: 0.9415\n",
      "\n",
      "--------------------------------------------------\n",
      "Iteration: 97\n",
      "105/105 [==============================] - 1s 5ms/step - loss: 0.0825 - accuracy: 0.9691 - val_loss: 0.1452 - val_accuracy: 0.9455\n",
      "\n",
      "--------------------------------------------------\n",
      "Iteration: 98\n",
      "105/105 [==============================] - 1s 5ms/step - loss: 0.0902 - accuracy: 0.9636 - val_loss: 0.1723 - val_accuracy: 0.9355\n",
      "\n",
      "--------------------------------------------------\n",
      "Iteration: 99\n",
      "105/105 [==============================] - 1s 5ms/step - loss: 0.1007 - accuracy: 0.9615 - val_loss: 0.1771 - val_accuracy: 0.9300\n"
     ]
    }
   ],
   "source": [
    "# Init best accuracy with 0\n",
    "best_acc = 0\n",
    "# Save all training loss\n",
    "train_loss = []\n",
    "# Save all validation loss\n",
    "val_loss = []\n",
    "# Loop for the number of epochs\n",
    "for iteration in range(100):\n",
    "    print()\n",
    "    print('-' * 50)\n",
    "    print('Iteration:', iteration)\n",
    "    \n",
    "    # Loss and Acc with each epoch\n",
    "    loss = []\n",
    "    acc = []\n",
    "    \n",
    "    # Fit the model in batches of 100\n",
    "    history = model.fit( X_train, y_train, batch_size = 100, epochs=1, validation_data=(X_test, y_test))\n",
    "    train_loss.append(history.history['loss'][0])\n",
    "    val_loss.append(history.history['val_loss'][0])\n",
    "    \n",
    "    # If val_accuracy improves from the last saved best_accuracy, then save model\n",
    "    if history.history['val_accuracy'][0] > best_acc and history.history['val_accuracy'][0] > .80:\n",
    "        print('Saving Model...')\n",
    "        model.save('lstm-many-to-one-data-only')\n",
    "        best_acc = history.history['val_accuracy'][0]"
   ]
  },
  {
   "cell_type": "markdown",
   "id": "3f995e37",
   "metadata": {},
   "source": [
    "## Plotting Epochs vs. Training loss (Binary Cross Entropy)"
   ]
  },
  {
   "cell_type": "code",
   "execution_count": 16,
   "id": "bf26c6e6",
   "metadata": {},
   "outputs": [
    {
     "data": {
      "image/png": "[encoded data removed]",
      "text/plain": [
       "<Figure size 640x480 with 1 Axes>"
      ]
     },
     "metadata": {},
     "output_type": "display_data"
    }
   ],
   "source": [
    "plt.plot(val_loss, label='Validation')\n",
    "plt.plot(train_loss, label='Train')\n",
    "plt.legend()\n",
    "plt.xlabel('Epochs')\n",
    "plt.ylabel('Binary Cross Entropy')\n",
    "plt.title('Loss for LSTM using Tabular Data')\n",
    "plt.savefig('Losses_data_only.png')"
   ]
  },
  {
   "cell_type": "markdown",
   "id": "b4c6c9c7",
   "metadata": {},
   "source": [
    "The training loss and validation loss has decreased monotonically, with one peak."
   ]
  },
  {
   "cell_type": "markdown",
   "id": "9cb78da7",
   "metadata": {},
   "source": [
    "## Testing the model on the test set"
   ]
  },
  {
   "cell_type": "code",
   "execution_count": 17,
   "id": "19ac23f3",
   "metadata": {},
   "outputs": [],
   "source": [
    "from tensorflow import keras\n",
    "\n",
    "# Loading the model\n",
    "model_pretrained = keras.models.load_model('lstm-many-to-one-data-only')\n",
    "\n",
    "# Prediction using X_test\n",
    "pred = model_pretrained(X_test)\n",
    "# Convert to array\n",
    "pred = np.array(pred)\n",
    "\n",
    "# Assigning class based on prediction\n",
    "pred[pred > 0.5] = 1\n",
    "pred[pred != 1] = 0\n",
    "\n",
    "# Class-wise accuracy\n",
    "classwise1 = ((np.array(pred)[:,0] == np.array(y_test))*(y_test==1)).sum()/(y_test==1).sum()\n",
    "classwise0 = ((np.array(pred)[:,0] == np.array(y_test))*(y_test==0)).sum()/(y_test==0).sum()"
   ]
  },
  {
   "cell_type": "markdown",
   "id": "9c162547",
   "metadata": {},
   "source": [
    "## Classwise accuracy and overall accuracy on test data "
   ]
  },
  {
   "cell_type": "code",
   "execution_count": 18,
   "id": "5b78838d",
   "metadata": {},
   "outputs": [
    {
     "name": "stdout",
     "output_type": "stream",
     "text": [
      "Total Accuracy: \t 94.923\n",
      "------------------------------\n",
      "--Class wise Accuracy of Test--\n",
      "------------------------------\n",
      "Class 0: \t 97.586\n",
      "Class 1: \t 84.507\n"
     ]
    }
   ],
   "source": [
    "print(f'Total Accuracy: \\t {((np.array(pred)[:,0] == np.array(y_test)).sum()/len(pred))*100:.3f}')\n",
    "print('-'*30)\n",
    "\n",
    "print('--Class wise Accuracy of Test--')\n",
    "print('-'*30)\n",
    "print(f'Class 0: \\t {classwise0*100:.3f}')\n",
    "print(f'Class 1: \\t {classwise1*100:.3f}')"
   ]
  },
  {
   "cell_type": "markdown",
   "id": "a9840588",
   "metadata": {},
   "source": [
    "# 2. Combination model with CNN and RNN using satellite images and numerical meteorological data"
   ]
  },
  {
   "cell_type": "markdown",
   "id": "9abe7c82",
   "metadata": {},
   "source": [
    "**About the architecture:**\n",
    "- First, we stack the images in channels (i.e. 1 channel for grayscale), and then pass them through multiple layers of Convolutions with kernel/filter size 3 x 3 and stride 2 x 2\n",
    "- To be precise, we use 6 convolution layers with 3, 6, 6, 8, 8, 8 filter counts at respective layers\n",
    "- By keeping zero padding and stride 2 x 2, we reduce the image size by half through each layer, resulting in final activation size as 1 x 1 x 8 (i.e. output of final convolution layer)\n",
    "- We then flatten this output and concatenate them with the 1 x 16 dimension output of LSTM that we discussed in the previous section\n",
    "- Finally, we use a dense layer with 1 neuron to predict the output between 0 and 1 (due to the sigmoid activation)\n",
    "\n",
    "**Intuition:**\n",
    "- By concatenating the output from the ConvNet to the LSTM output, we infuse the information from images with the tabular data which in turn provides more information to predict the decision boundary\n",
    "- We stack multiple convolution layers to enable complex feature extraction\n",
    "- The convolution filters in the channel depth learn to fuse the information in time domain, as we stack the temporal frames in channels\n",
    "- More intuitively, these act as a fully connected LSTM layers rather than feedforward LSTM layers"
   ]
  },
  {
   "cell_type": "code",
   "execution_count": 19,
   "id": "0249db17",
   "metadata": {},
   "outputs": [
    {
     "name": "stdout",
     "output_type": "stream",
     "text": [
      "Model: \"model_1\"\n",
      "__________________________________________________________________________________________________\n",
      " Layer (type)                   Output Shape         Param #     Connected to                     \n",
      "==================================================================================================\n",
      " input_2 (InputLayer)           [(None, 48, 48, 35)  0           []                               \n",
      "                                ]                                                                 \n",
      "                                                                                                  \n",
      " conv2d (Conv2D)                (None, 24, 24, 3)    948         ['input_2[0][0]']                \n",
      "                                                                                                  \n",
      " conv2d_1 (Conv2D)              (None, 12, 12, 6)    168         ['conv2d[0][0]']                 \n",
      "                                                                                                  \n",
      " conv2d_2 (Conv2D)              (None, 6, 6, 6)      330         ['conv2d_1[0][0]']               \n",
      "                                                                                                  \n",
      " conv2d_3 (Conv2D)              (None, 3, 3, 8)      440         ['conv2d_2[0][0]']               \n",
      "                                                                                                  \n",
      " input_3 (InputLayer)           [(None, 35, 10)]     0           []                               \n",
      "                                                                                                  \n",
      " conv2d_4 (Conv2D)              (None, 2, 2, 8)      584         ['conv2d_3[0][0]']               \n",
      "                                                                                                  \n",
      " lstm_2 (LSTM)                  (None, 35, 16)       1728        ['input_3[0][0]']                \n",
      "                                                                                                  \n",
      " conv2d_5 (Conv2D)              (None, 1, 1, 8)      584         ['conv2d_4[0][0]']               \n",
      "                                                                                                  \n",
      " lstm_3 (LSTM)                  (None, 16)           2112        ['lstm_2[0][0]']                 \n",
      "                                                                                                  \n",
      " flatten (Flatten)              (None, 8)            0           ['conv2d_5[0][0]']               \n",
      "                                                                                                  \n",
      " concatenate (Concatenate)      (None, 24)           0           ['lstm_3[0][0]',                 \n",
      "                                                                  'flatten[0][0]']                \n",
      "                                                                                                  \n",
      " dense_1 (Dense)                (None, 1)            25          ['concatenate[0][0]']            \n",
      "                                                                                                  \n",
      "==================================================================================================\n",
      "Total params: 6,919\n",
      "Trainable params: 6,919\n",
      "Non-trainable params: 0\n",
      "__________________________________________________________________________________________________\n"
     ]
    }
   ],
   "source": [
    "RNN = layers.LSTM\n",
    "img_shape = (48, 48, 35)\n",
    "data_shape = (35, 10)\n",
    "\n",
    "image = layers.Input(shape=img_shape)\n",
    "data = layers.Input(shape= data_shape)\n",
    "\n",
    "# Define the CNN for images\n",
    "# filter => 3x3\n",
    "# stride => 2x2\n",
    "conv1 = layers.Conv2D(3, (3, 3), (2,2), padding='same', activation='selu')(image)\n",
    "conv2 = layers.Conv2D(6, (3, 3), (2,2), padding='same', activation='selu')(conv1)\n",
    "conv3 = layers.Conv2D(6, (3, 3), (2,2), padding='same', activation='selu')(conv2)\n",
    "conv4 = layers.Conv2D(8, (3, 3), (2,2), padding='same', activation='selu')(conv3)\n",
    "conv5 = layers.Conv2D(8, (3, 3), (2,2), padding='same', activation='selu')(conv4)\n",
    "conv6 = layers.Conv2D(8, (3, 3), (2,2), padding='same', activation='selu')(conv5)\n",
    "\n",
    "# LSTM neurons\n",
    "hidden_size = 16\n",
    "\n",
    "# Define layers in RNN\n",
    "lstm1 = RNN(hidden_size, input_shape=(35, data_shape[1]), return_sequences= True)(data)\n",
    "lstm2 = RNN(hidden_size, input_shape=(35, hidden_size), return_sequences= False)(lstm1)\n",
    "\n",
    "# Flatten the output of CNN\n",
    "flattened = layers.Flatten()(conv6)\n",
    "\n",
    "# Connect the CNN output and RNN output to a dense layer with 1 neuron for final 0/1 outputs\n",
    "final = layers.Concatenate(axis=1)([lstm2, flattened])\n",
    "out = layers.Dense(1, activation='sigmoid')(final)\n",
    "\n",
    "# Using both, images and numerical data as input\n",
    "model = Model([image, data], out)  \n",
    "\n",
    "# Optimizer\n",
    "optim = Adam(learning_rate=0.01)\n",
    "\n",
    "# Build model\n",
    "model.compile(loss='binary_crossentropy',\n",
    "              optimizer = optim,\n",
    "              metrics=['accuracy'])\n",
    "model.summary()"
   ]
  },
  {
   "cell_type": "markdown",
   "id": "c5aa8f02",
   "metadata": {},
   "source": [
    "## Training the CNN + RNN Combination model"
   ]
  },
  {
   "cell_type": "code",
   "execution_count": 20,
   "id": "03659ce7",
   "metadata": {},
   "outputs": [],
   "source": [
    "imgs_test = np.load('images_test.npy')\n",
    "imgs_train =  np.load('images_train.npy')"
   ]
  },
  {
   "cell_type": "code",
   "execution_count": 21,
   "id": "fa81d836",
   "metadata": {},
   "outputs": [
    {
     "name": "stdout",
     "output_type": "stream",
     "text": [
      "\n",
      "--------------------------------------------------\n",
      "Iteration 0\n",
      "105/105 [==============================] - 4s 17ms/step - loss: 0.4905 - accuracy: 0.7882 - val_loss: 0.4556 - val_accuracy: 0.7963\n",
      "\n",
      "--------------------------------------------------\n",
      "Iteration 1\n",
      "105/105 [==============================] - 1s 10ms/step - loss: 0.4528 - accuracy: 0.7955 - val_loss: 0.4395 - val_accuracy: 0.8075\n",
      "Saving Model...\n"
     ]
    },
    {
     "name": "stderr",
     "output_type": "stream",
     "text": [
      "WARNING:absl:Found untraced functions such as _jit_compiled_convolution_op, _jit_compiled_convolution_op, _jit_compiled_convolution_op, _jit_compiled_convolution_op, _jit_compiled_convolution_op while saving (showing 5 of 10). These functions will not be directly callable after loading.\n"
     ]
    },
    {
     "name": "stdout",
     "output_type": "stream",
     "text": [
      "INFO:tensorflow:Assets written to: lstm-many-to-one-data-and-images/assets\n"
     ]
    },
    {
     "name": "stderr",
     "output_type": "stream",
     "text": [
      "INFO:tensorflow:Assets written to: lstm-many-to-one-data-and-images/assets\n"
     ]
    },
    {
     "name": "stdout",
     "output_type": "stream",
     "text": [
      "\n",
      "--------------------------------------------------\n",
      "Iteration 2\n",
      "105/105 [==============================] - 1s 10ms/step - loss: 0.4469 - accuracy: 0.7983 - val_loss: 0.4393 - val_accuracy: 0.7966\n",
      "\n",
      "--------------------------------------------------\n",
      "Iteration 3\n",
      "105/105 [==============================] - 1s 10ms/step - loss: 0.4383 - accuracy: 0.8000 - val_loss: 0.4241 - val_accuracy: 0.8061\n",
      "\n",
      "--------------------------------------------------\n",
      "Iteration 4\n",
      "105/105 [==============================] - 1s 10ms/step - loss: 0.4295 - accuracy: 0.8026 - val_loss: 0.4373 - val_accuracy: 0.8101\n",
      "Saving Model...\n"
     ]
    },
    {
     "name": "stderr",
     "output_type": "stream",
     "text": [
      "WARNING:absl:Found untraced functions such as _jit_compiled_convolution_op, _jit_compiled_convolution_op, _jit_compiled_convolution_op, _jit_compiled_convolution_op, _jit_compiled_convolution_op while saving (showing 5 of 10). These functions will not be directly callable after loading.\n"
     ]
    },
    {
     "name": "stdout",
     "output_type": "stream",
     "text": [
      "INFO:tensorflow:Assets written to: lstm-many-to-one-data-and-images/assets\n"
     ]
    },
    {
     "name": "stderr",
     "output_type": "stream",
     "text": [
      "INFO:tensorflow:Assets written to: lstm-many-to-one-data-and-images/assets\n"
     ]
    },
    {
     "name": "stdout",
     "output_type": "stream",
     "text": [
      "\n",
      "--------------------------------------------------\n",
      "Iteration 5\n",
      "105/105 [==============================] - 1s 10ms/step - loss: 0.4299 - accuracy: 0.8050 - val_loss: 0.4194 - val_accuracy: 0.8138\n",
      "Saving Model...\n"
     ]
    },
    {
     "name": "stderr",
     "output_type": "stream",
     "text": [
      "WARNING:absl:Found untraced functions such as _jit_compiled_convolution_op, _jit_compiled_convolution_op, _jit_compiled_convolution_op, _jit_compiled_convolution_op, _jit_compiled_convolution_op while saving (showing 5 of 10). These functions will not be directly callable after loading.\n"
     ]
    },
    {
     "name": "stdout",
     "output_type": "stream",
     "text": [
      "INFO:tensorflow:Assets written to: lstm-many-to-one-data-and-images/assets\n"
     ]
    },
    {
     "name": "stderr",
     "output_type": "stream",
     "text": [
      "INFO:tensorflow:Assets written to: lstm-many-to-one-data-and-images/assets\n"
     ]
    },
    {
     "name": "stdout",
     "output_type": "stream",
     "text": [
      "\n",
      "--------------------------------------------------\n",
      "Iteration 6\n",
      "105/105 [==============================] - 1s 10ms/step - loss: 0.4184 - accuracy: 0.8072 - val_loss: 0.4120 - val_accuracy: 0.8101\n",
      "\n",
      "--------------------------------------------------\n",
      "Iteration 7\n",
      "105/105 [==============================] - 1s 10ms/step - loss: 0.4092 - accuracy: 0.8147 - val_loss: 0.4087 - val_accuracy: 0.8118\n",
      "\n",
      "--------------------------------------------------\n",
      "Iteration 8\n",
      "105/105 [==============================] - 1s 10ms/step - loss: 0.4087 - accuracy: 0.8088 - val_loss: 0.4087 - val_accuracy: 0.8150\n",
      "Saving Model...\n"
     ]
    },
    {
     "name": "stderr",
     "output_type": "stream",
     "text": [
      "WARNING:absl:Found untraced functions such as _jit_compiled_convolution_op, _jit_compiled_convolution_op, _jit_compiled_convolution_op, _jit_compiled_convolution_op, _jit_compiled_convolution_op while saving (showing 5 of 10). These functions will not be directly callable after loading.\n"
     ]
    },
    {
     "name": "stdout",
     "output_type": "stream",
     "text": [
      "INFO:tensorflow:Assets written to: lstm-many-to-one-data-and-images/assets\n"
     ]
    },
    {
     "name": "stderr",
     "output_type": "stream",
     "text": [
      "INFO:tensorflow:Assets written to: lstm-many-to-one-data-and-images/assets\n"
     ]
    },
    {
     "name": "stdout",
     "output_type": "stream",
     "text": [
      "\n",
      "--------------------------------------------------\n",
      "Iteration 9\n",
      "105/105 [==============================] - 1s 10ms/step - loss: 0.3878 - accuracy: 0.8179 - val_loss: 0.4104 - val_accuracy: 0.7966\n",
      "\n",
      "--------------------------------------------------\n",
      "Iteration 10\n",
      "105/105 [==============================] - 1s 10ms/step - loss: 0.3740 - accuracy: 0.8202 - val_loss: 0.3825 - val_accuracy: 0.8250\n",
      "Saving Model...\n"
     ]
    },
    {
     "name": "stderr",
     "output_type": "stream",
     "text": [
      "WARNING:absl:Found untraced functions such as _jit_compiled_convolution_op, _jit_compiled_convolution_op, _jit_compiled_convolution_op, _jit_compiled_convolution_op, _jit_compiled_convolution_op while saving (showing 5 of 10). These functions will not be directly callable after loading.\n"
     ]
    },
    {
     "name": "stdout",
     "output_type": "stream",
     "text": [
      "INFO:tensorflow:Assets written to: lstm-many-to-one-data-and-images/assets\n"
     ]
    },
    {
     "name": "stderr",
     "output_type": "stream",
     "text": [
      "INFO:tensorflow:Assets written to: lstm-many-to-one-data-and-images/assets\n"
     ]
    },
    {
     "name": "stdout",
     "output_type": "stream",
     "text": [
      "\n",
      "--------------------------------------------------\n",
      "Iteration 11\n",
      "105/105 [==============================] - 1s 10ms/step - loss: 0.3581 - accuracy: 0.8312 - val_loss: 0.3432 - val_accuracy: 0.8419\n",
      "Saving Model...\n"
     ]
    },
    {
     "name": "stderr",
     "output_type": "stream",
     "text": [
      "WARNING:absl:Found untraced functions such as _jit_compiled_convolution_op, _jit_compiled_convolution_op, _jit_compiled_convolution_op, _jit_compiled_convolution_op, _jit_compiled_convolution_op while saving (showing 5 of 10). These functions will not be directly callable after loading.\n"
     ]
    },
    {
     "name": "stdout",
     "output_type": "stream",
     "text": [
      "INFO:tensorflow:Assets written to: lstm-many-to-one-data-and-images/assets\n"
     ]
    },
    {
     "name": "stderr",
     "output_type": "stream",
     "text": [
      "INFO:tensorflow:Assets written to: lstm-many-to-one-data-and-images/assets\n"
     ]
    },
    {
     "name": "stdout",
     "output_type": "stream",
     "text": [
      "\n",
      "--------------------------------------------------\n",
      "Iteration 12\n",
      "105/105 [==============================] - 1s 10ms/step - loss: 0.3413 - accuracy: 0.8413 - val_loss: 0.4830 - val_accuracy: 0.7952\n",
      "\n",
      "--------------------------------------------------\n",
      "Iteration 13\n",
      "105/105 [==============================] - 1s 10ms/step - loss: 0.4736 - accuracy: 0.7943 - val_loss: 0.4465 - val_accuracy: 0.7969\n",
      "\n",
      "--------------------------------------------------\n",
      "Iteration 14\n",
      "105/105 [==============================] - 1s 10ms/step - loss: 0.4447 - accuracy: 0.7985 - val_loss: 0.4370 - val_accuracy: 0.8110\n",
      "\n",
      "--------------------------------------------------\n",
      "Iteration 15\n",
      "105/105 [==============================] - 1s 11ms/step - loss: 0.4510 - accuracy: 0.7983 - val_loss: 0.4314 - val_accuracy: 0.8107\n",
      "\n",
      "--------------------------------------------------\n",
      "Iteration 16\n",
      "105/105 [==============================] - 1s 10ms/step - loss: 0.4370 - accuracy: 0.7972 - val_loss: 0.4282 - val_accuracy: 0.8118\n",
      "\n",
      "--------------------------------------------------\n",
      "Iteration 17\n",
      "105/105 [==============================] - 1s 10ms/step - loss: 0.4328 - accuracy: 0.7978 - val_loss: 0.4221 - val_accuracy: 0.7949\n",
      "\n",
      "--------------------------------------------------\n",
      "Iteration 18\n",
      "105/105 [==============================] - 1s 10ms/step - loss: 0.4287 - accuracy: 0.8007 - val_loss: 0.4388 - val_accuracy: 0.8095\n",
      "\n",
      "--------------------------------------------------\n",
      "Iteration 19\n",
      "105/105 [==============================] - 1s 11ms/step - loss: 0.4355 - accuracy: 0.7980 - val_loss: 0.4160 - val_accuracy: 0.8115\n",
      "\n",
      "--------------------------------------------------\n",
      "Iteration 20\n",
      "105/105 [==============================] - 1s 10ms/step - loss: 0.4184 - accuracy: 0.8039 - val_loss: 0.4099 - val_accuracy: 0.8087\n",
      "\n",
      "--------------------------------------------------\n",
      "Iteration 21\n",
      "105/105 [==============================] - 1s 10ms/step - loss: 0.4194 - accuracy: 0.8025 - val_loss: 0.4341 - val_accuracy: 0.8044\n",
      "\n",
      "--------------------------------------------------\n",
      "Iteration 22\n",
      "105/105 [==============================] - 1s 10ms/step - loss: 0.4046 - accuracy: 0.8074 - val_loss: 0.3955 - val_accuracy: 0.8104\n",
      "\n",
      "--------------------------------------------------\n",
      "Iteration 23\n",
      "105/105 [==============================] - 1s 11ms/step - loss: 0.3922 - accuracy: 0.8149 - val_loss: 0.3872 - val_accuracy: 0.8207\n",
      "\n",
      "--------------------------------------------------\n",
      "Iteration 24\n",
      "105/105 [==============================] - 1s 10ms/step - loss: 0.3803 - accuracy: 0.8180 - val_loss: 0.3705 - val_accuracy: 0.8308\n",
      "\n",
      "--------------------------------------------------\n",
      "Iteration 25\n",
      "105/105 [==============================] - 1s 10ms/step - loss: 0.3799 - accuracy: 0.8215 - val_loss: 0.3603 - val_accuracy: 0.8425\n",
      "Saving Model...\n"
     ]
    },
    {
     "name": "stderr",
     "output_type": "stream",
     "text": [
      "WARNING:absl:Found untraced functions such as _jit_compiled_convolution_op, _jit_compiled_convolution_op, _jit_compiled_convolution_op, _jit_compiled_convolution_op, _jit_compiled_convolution_op while saving (showing 5 of 10). These functions will not be directly callable after loading.\n"
     ]
    },
    {
     "name": "stdout",
     "output_type": "stream",
     "text": [
      "INFO:tensorflow:Assets written to: lstm-many-to-one-data-and-images/assets\n"
     ]
    },
    {
     "name": "stderr",
     "output_type": "stream",
     "text": [
      "INFO:tensorflow:Assets written to: lstm-many-to-one-data-and-images/assets\n"
     ]
    },
    {
     "name": "stdout",
     "output_type": "stream",
     "text": [
      "\n",
      "--------------------------------------------------\n",
      "Iteration 26\n",
      "105/105 [==============================] - 1s 10ms/step - loss: 0.3545 - accuracy: 0.8354 - val_loss: 0.3445 - val_accuracy: 0.8405\n",
      "\n",
      "--------------------------------------------------\n",
      "Iteration 27\n",
      "105/105 [==============================] - 1s 10ms/step - loss: 0.3302 - accuracy: 0.8478 - val_loss: 0.3386 - val_accuracy: 0.8437\n",
      "Saving Model...\n"
     ]
    },
    {
     "name": "stderr",
     "output_type": "stream",
     "text": [
      "WARNING:absl:Found untraced functions such as _jit_compiled_convolution_op, _jit_compiled_convolution_op, _jit_compiled_convolution_op, _jit_compiled_convolution_op, _jit_compiled_convolution_op while saving (showing 5 of 10). These functions will not be directly callable after loading.\n"
     ]
    },
    {
     "name": "stdout",
     "output_type": "stream",
     "text": [
      "INFO:tensorflow:Assets written to: lstm-many-to-one-data-and-images/assets\n"
     ]
    },
    {
     "name": "stderr",
     "output_type": "stream",
     "text": [
      "INFO:tensorflow:Assets written to: lstm-many-to-one-data-and-images/assets\n"
     ]
    },
    {
     "name": "stdout",
     "output_type": "stream",
     "text": [
      "\n",
      "--------------------------------------------------\n",
      "Iteration 28\n",
      "105/105 [==============================] - 1s 10ms/step - loss: 0.3223 - accuracy: 0.8502 - val_loss: 0.3491 - val_accuracy: 0.8319\n",
      "\n",
      "--------------------------------------------------\n",
      "Iteration 29\n",
      "105/105 [==============================] - 1s 10ms/step - loss: 0.2930 - accuracy: 0.8679 - val_loss: 0.3041 - val_accuracy: 0.8592\n",
      "Saving Model...\n"
     ]
    },
    {
     "name": "stderr",
     "output_type": "stream",
     "text": [
      "WARNING:absl:Found untraced functions such as _jit_compiled_convolution_op, _jit_compiled_convolution_op, _jit_compiled_convolution_op, _jit_compiled_convolution_op, _jit_compiled_convolution_op while saving (showing 5 of 10). These functions will not be directly callable after loading.\n"
     ]
    },
    {
     "name": "stdout",
     "output_type": "stream",
     "text": [
      "INFO:tensorflow:Assets written to: lstm-many-to-one-data-and-images/assets\n"
     ]
    },
    {
     "name": "stderr",
     "output_type": "stream",
     "text": [
      "INFO:tensorflow:Assets written to: lstm-many-to-one-data-and-images/assets\n"
     ]
    },
    {
     "name": "stdout",
     "output_type": "stream",
     "text": [
      "\n",
      "--------------------------------------------------\n",
      "Iteration 30\n",
      "105/105 [==============================] - 1s 10ms/step - loss: 0.2690 - accuracy: 0.8789 - val_loss: 0.3042 - val_accuracy: 0.8715\n",
      "Saving Model...\n"
     ]
    },
    {
     "name": "stderr",
     "output_type": "stream",
     "text": [
      "WARNING:absl:Found untraced functions such as _jit_compiled_convolution_op, _jit_compiled_convolution_op, _jit_compiled_convolution_op, _jit_compiled_convolution_op, _jit_compiled_convolution_op while saving (showing 5 of 10). These functions will not be directly callable after loading.\n"
     ]
    },
    {
     "name": "stdout",
     "output_type": "stream",
     "text": [
      "INFO:tensorflow:Assets written to: lstm-many-to-one-data-and-images/assets\n"
     ]
    },
    {
     "name": "stderr",
     "output_type": "stream",
     "text": [
      "INFO:tensorflow:Assets written to: lstm-many-to-one-data-and-images/assets\n"
     ]
    },
    {
     "name": "stdout",
     "output_type": "stream",
     "text": [
      "\n",
      "--------------------------------------------------\n",
      "Iteration 31\n",
      "105/105 [==============================] - 1s 10ms/step - loss: 0.2516 - accuracy: 0.8870 - val_loss: 0.2490 - val_accuracy: 0.8887\n",
      "Saving Model...\n"
     ]
    },
    {
     "name": "stderr",
     "output_type": "stream",
     "text": [
      "WARNING:absl:Found untraced functions such as _jit_compiled_convolution_op, _jit_compiled_convolution_op, _jit_compiled_convolution_op, _jit_compiled_convolution_op, _jit_compiled_convolution_op while saving (showing 5 of 10). These functions will not be directly callable after loading.\n"
     ]
    },
    {
     "name": "stdout",
     "output_type": "stream",
     "text": [
      "INFO:tensorflow:Assets written to: lstm-many-to-one-data-and-images/assets\n"
     ]
    },
    {
     "name": "stderr",
     "output_type": "stream",
     "text": [
      "INFO:tensorflow:Assets written to: lstm-many-to-one-data-and-images/assets\n"
     ]
    },
    {
     "name": "stdout",
     "output_type": "stream",
     "text": [
      "\n",
      "--------------------------------------------------\n",
      "Iteration 32\n",
      "105/105 [==============================] - 1s 11ms/step - loss: 0.2396 - accuracy: 0.8939 - val_loss: 0.2618 - val_accuracy: 0.8781\n",
      "\n",
      "--------------------------------------------------\n",
      "Iteration 33\n",
      "105/105 [==============================] - 1s 10ms/step - loss: 0.2199 - accuracy: 0.9061 - val_loss: 0.2167 - val_accuracy: 0.9048\n",
      "Saving Model...\n"
     ]
    },
    {
     "name": "stderr",
     "output_type": "stream",
     "text": [
      "WARNING:absl:Found untraced functions such as _jit_compiled_convolution_op, _jit_compiled_convolution_op, _jit_compiled_convolution_op, _jit_compiled_convolution_op, _jit_compiled_convolution_op while saving (showing 5 of 10). These functions will not be directly callable after loading.\n"
     ]
    },
    {
     "name": "stdout",
     "output_type": "stream",
     "text": [
      "INFO:tensorflow:Assets written to: lstm-many-to-one-data-and-images/assets\n"
     ]
    },
    {
     "name": "stderr",
     "output_type": "stream",
     "text": [
      "INFO:tensorflow:Assets written to: lstm-many-to-one-data-and-images/assets\n"
     ]
    },
    {
     "name": "stdout",
     "output_type": "stream",
     "text": [
      "\n",
      "--------------------------------------------------\n",
      "Iteration 34\n",
      "105/105 [==============================] - 1s 10ms/step - loss: 0.2071 - accuracy: 0.9137 - val_loss: 0.1995 - val_accuracy: 0.9105\n",
      "Saving Model...\n"
     ]
    },
    {
     "name": "stderr",
     "output_type": "stream",
     "text": [
      "WARNING:absl:Found untraced functions such as _jit_compiled_convolution_op, _jit_compiled_convolution_op, _jit_compiled_convolution_op, _jit_compiled_convolution_op, _jit_compiled_convolution_op while saving (showing 5 of 10). These functions will not be directly callable after loading.\n"
     ]
    },
    {
     "name": "stdout",
     "output_type": "stream",
     "text": [
      "INFO:tensorflow:Assets written to: lstm-many-to-one-data-and-images/assets\n"
     ]
    },
    {
     "name": "stderr",
     "output_type": "stream",
     "text": [
      "INFO:tensorflow:Assets written to: lstm-many-to-one-data-and-images/assets\n"
     ]
    },
    {
     "name": "stdout",
     "output_type": "stream",
     "text": [
      "\n",
      "--------------------------------------------------\n",
      "Iteration 35\n",
      "105/105 [==============================] - 1s 10ms/step - loss: 0.1931 - accuracy: 0.9195 - val_loss: 0.2084 - val_accuracy: 0.9073\n",
      "\n",
      "--------------------------------------------------\n",
      "Iteration 36\n",
      "105/105 [==============================] - 1s 10ms/step - loss: 0.1763 - accuracy: 0.9265 - val_loss: 0.2437 - val_accuracy: 0.8916\n",
      "\n",
      "--------------------------------------------------\n",
      "Iteration 37\n",
      "105/105 [==============================] - 1s 10ms/step - loss: 0.1822 - accuracy: 0.9232 - val_loss: 0.1746 - val_accuracy: 0.9237\n",
      "Saving Model...\n"
     ]
    },
    {
     "name": "stderr",
     "output_type": "stream",
     "text": [
      "WARNING:absl:Found untraced functions such as _jit_compiled_convolution_op, _jit_compiled_convolution_op, _jit_compiled_convolution_op, _jit_compiled_convolution_op, _jit_compiled_convolution_op while saving (showing 5 of 10). These functions will not be directly callable after loading.\n"
     ]
    },
    {
     "name": "stdout",
     "output_type": "stream",
     "text": [
      "INFO:tensorflow:Assets written to: lstm-many-to-one-data-and-images/assets\n"
     ]
    },
    {
     "name": "stderr",
     "output_type": "stream",
     "text": [
      "INFO:tensorflow:Assets written to: lstm-many-to-one-data-and-images/assets\n"
     ]
    },
    {
     "name": "stdout",
     "output_type": "stream",
     "text": [
      "\n",
      "--------------------------------------------------\n",
      "Iteration 38\n",
      "105/105 [==============================] - 1s 10ms/step - loss: 0.1532 - accuracy: 0.9341 - val_loss: 0.1748 - val_accuracy: 0.9277\n",
      "Saving Model...\n"
     ]
    },
    {
     "name": "stderr",
     "output_type": "stream",
     "text": [
      "WARNING:absl:Found untraced functions such as _jit_compiled_convolution_op, _jit_compiled_convolution_op, _jit_compiled_convolution_op, _jit_compiled_convolution_op, _jit_compiled_convolution_op while saving (showing 5 of 10). These functions will not be directly callable after loading.\n"
     ]
    },
    {
     "name": "stdout",
     "output_type": "stream",
     "text": [
      "INFO:tensorflow:Assets written to: lstm-many-to-one-data-and-images/assets\n"
     ]
    },
    {
     "name": "stderr",
     "output_type": "stream",
     "text": [
      "INFO:tensorflow:Assets written to: lstm-many-to-one-data-and-images/assets\n"
     ]
    },
    {
     "name": "stdout",
     "output_type": "stream",
     "text": [
      "\n",
      "--------------------------------------------------\n",
      "Iteration 39\n",
      "105/105 [==============================] - 1s 10ms/step - loss: 0.1554 - accuracy: 0.9361 - val_loss: 0.1655 - val_accuracy: 0.9297\n",
      "Saving Model...\n"
     ]
    },
    {
     "name": "stderr",
     "output_type": "stream",
     "text": [
      "WARNING:absl:Found untraced functions such as _jit_compiled_convolution_op, _jit_compiled_convolution_op, _jit_compiled_convolution_op, _jit_compiled_convolution_op, _jit_compiled_convolution_op while saving (showing 5 of 10). These functions will not be directly callable after loading.\n"
     ]
    },
    {
     "name": "stdout",
     "output_type": "stream",
     "text": [
      "INFO:tensorflow:Assets written to: lstm-many-to-one-data-and-images/assets\n"
     ]
    },
    {
     "name": "stderr",
     "output_type": "stream",
     "text": [
      "INFO:tensorflow:Assets written to: lstm-many-to-one-data-and-images/assets\n"
     ]
    },
    {
     "name": "stdout",
     "output_type": "stream",
     "text": [
      "\n",
      "--------------------------------------------------\n",
      "Iteration 40\n",
      "105/105 [==============================] - 1s 10ms/step - loss: 0.1494 - accuracy: 0.9413 - val_loss: 0.1538 - val_accuracy: 0.9355\n",
      "Saving Model...\n"
     ]
    },
    {
     "name": "stderr",
     "output_type": "stream",
     "text": [
      "WARNING:absl:Found untraced functions such as _jit_compiled_convolution_op, _jit_compiled_convolution_op, _jit_compiled_convolution_op, _jit_compiled_convolution_op, _jit_compiled_convolution_op while saving (showing 5 of 10). These functions will not be directly callable after loading.\n"
     ]
    },
    {
     "name": "stdout",
     "output_type": "stream",
     "text": [
      "INFO:tensorflow:Assets written to: lstm-many-to-one-data-and-images/assets\n"
     ]
    },
    {
     "name": "stderr",
     "output_type": "stream",
     "text": [
      "INFO:tensorflow:Assets written to: lstm-many-to-one-data-and-images/assets\n"
     ]
    },
    {
     "name": "stdout",
     "output_type": "stream",
     "text": [
      "\n",
      "--------------------------------------------------\n",
      "Iteration 41\n",
      "105/105 [==============================] - 1s 10ms/step - loss: 0.1318 - accuracy: 0.9478 - val_loss: 0.1361 - val_accuracy: 0.9429\n",
      "Saving Model...\n"
     ]
    },
    {
     "name": "stderr",
     "output_type": "stream",
     "text": [
      "WARNING:absl:Found untraced functions such as _jit_compiled_convolution_op, _jit_compiled_convolution_op, _jit_compiled_convolution_op, _jit_compiled_convolution_op, _jit_compiled_convolution_op while saving (showing 5 of 10). These functions will not be directly callable after loading.\n"
     ]
    },
    {
     "name": "stdout",
     "output_type": "stream",
     "text": [
      "INFO:tensorflow:Assets written to: lstm-many-to-one-data-and-images/assets\n"
     ]
    },
    {
     "name": "stderr",
     "output_type": "stream",
     "text": [
      "INFO:tensorflow:Assets written to: lstm-many-to-one-data-and-images/assets\n"
     ]
    },
    {
     "name": "stdout",
     "output_type": "stream",
     "text": [
      "\n",
      "--------------------------------------------------\n",
      "Iteration 42\n",
      "105/105 [==============================] - 1s 10ms/step - loss: 0.1136 - accuracy: 0.9570 - val_loss: 0.1223 - val_accuracy: 0.9507\n",
      "Saving Model...\n"
     ]
    },
    {
     "name": "stderr",
     "output_type": "stream",
     "text": [
      "WARNING:absl:Found untraced functions such as _jit_compiled_convolution_op, _jit_compiled_convolution_op, _jit_compiled_convolution_op, _jit_compiled_convolution_op, _jit_compiled_convolution_op while saving (showing 5 of 10). These functions will not be directly callable after loading.\n"
     ]
    },
    {
     "name": "stdout",
     "output_type": "stream",
     "text": [
      "INFO:tensorflow:Assets written to: lstm-many-to-one-data-and-images/assets\n"
     ]
    },
    {
     "name": "stderr",
     "output_type": "stream",
     "text": [
      "INFO:tensorflow:Assets written to: lstm-many-to-one-data-and-images/assets\n"
     ]
    },
    {
     "name": "stdout",
     "output_type": "stream",
     "text": [
      "\n",
      "--------------------------------------------------\n",
      "Iteration 43\n",
      "105/105 [==============================] - 1s 10ms/step - loss: 0.1047 - accuracy: 0.9592 - val_loss: 0.1410 - val_accuracy: 0.9418\n",
      "\n",
      "--------------------------------------------------\n",
      "Iteration 44\n",
      "105/105 [==============================] - 1s 10ms/step - loss: 0.1246 - accuracy: 0.9518 - val_loss: 0.1180 - val_accuracy: 0.9552\n",
      "Saving Model...\n"
     ]
    },
    {
     "name": "stderr",
     "output_type": "stream",
     "text": [
      "WARNING:absl:Found untraced functions such as _jit_compiled_convolution_op, _jit_compiled_convolution_op, _jit_compiled_convolution_op, _jit_compiled_convolution_op, _jit_compiled_convolution_op while saving (showing 5 of 10). These functions will not be directly callable after loading.\n"
     ]
    },
    {
     "name": "stdout",
     "output_type": "stream",
     "text": [
      "INFO:tensorflow:Assets written to: lstm-many-to-one-data-and-images/assets\n"
     ]
    },
    {
     "name": "stderr",
     "output_type": "stream",
     "text": [
      "INFO:tensorflow:Assets written to: lstm-many-to-one-data-and-images/assets\n"
     ]
    },
    {
     "name": "stdout",
     "output_type": "stream",
     "text": [
      "\n",
      "--------------------------------------------------\n",
      "Iteration 45\n",
      "105/105 [==============================] - 1s 11ms/step - loss: 0.1392 - accuracy: 0.9419 - val_loss: 0.1868 - val_accuracy: 0.9205\n",
      "\n",
      "--------------------------------------------------\n",
      "Iteration 46\n",
      "105/105 [==============================] - 1s 10ms/step - loss: 0.1432 - accuracy: 0.9411 - val_loss: 0.1492 - val_accuracy: 0.9395\n",
      "\n",
      "--------------------------------------------------\n",
      "Iteration 47\n",
      "105/105 [==============================] - 1s 10ms/step - loss: 0.1152 - accuracy: 0.9524 - val_loss: 0.1055 - val_accuracy: 0.9575\n",
      "Saving Model...\n"
     ]
    },
    {
     "name": "stderr",
     "output_type": "stream",
     "text": [
      "WARNING:absl:Found untraced functions such as _jit_compiled_convolution_op, _jit_compiled_convolution_op, _jit_compiled_convolution_op, _jit_compiled_convolution_op, _jit_compiled_convolution_op while saving (showing 5 of 10). These functions will not be directly callable after loading.\n"
     ]
    },
    {
     "name": "stdout",
     "output_type": "stream",
     "text": [
      "INFO:tensorflow:Assets written to: lstm-many-to-one-data-and-images/assets\n"
     ]
    },
    {
     "name": "stderr",
     "output_type": "stream",
     "text": [
      "INFO:tensorflow:Assets written to: lstm-many-to-one-data-and-images/assets\n"
     ]
    },
    {
     "name": "stdout",
     "output_type": "stream",
     "text": [
      "\n",
      "--------------------------------------------------\n",
      "Iteration 48\n",
      "105/105 [==============================] - 1s 10ms/step - loss: 0.1014 - accuracy: 0.9607 - val_loss: 0.1112 - val_accuracy: 0.9593\n",
      "Saving Model...\n"
     ]
    },
    {
     "name": "stderr",
     "output_type": "stream",
     "text": [
      "WARNING:absl:Found untraced functions such as _jit_compiled_convolution_op, _jit_compiled_convolution_op, _jit_compiled_convolution_op, _jit_compiled_convolution_op, _jit_compiled_convolution_op while saving (showing 5 of 10). These functions will not be directly callable after loading.\n"
     ]
    },
    {
     "name": "stdout",
     "output_type": "stream",
     "text": [
      "INFO:tensorflow:Assets written to: lstm-many-to-one-data-and-images/assets\n"
     ]
    },
    {
     "name": "stderr",
     "output_type": "stream",
     "text": [
      "INFO:tensorflow:Assets written to: lstm-many-to-one-data-and-images/assets\n"
     ]
    },
    {
     "name": "stdout",
     "output_type": "stream",
     "text": [
      "\n",
      "--------------------------------------------------\n",
      "Iteration 49\n",
      "105/105 [==============================] - 1s 10ms/step - loss: 0.0911 - accuracy: 0.9648 - val_loss: 0.1387 - val_accuracy: 0.9438\n",
      "\n",
      "--------------------------------------------------\n",
      "Iteration 50\n",
      "105/105 [==============================] - 1s 10ms/step - loss: 0.0886 - accuracy: 0.9670 - val_loss: 0.1024 - val_accuracy: 0.9621\n",
      "Saving Model...\n"
     ]
    },
    {
     "name": "stderr",
     "output_type": "stream",
     "text": [
      "WARNING:absl:Found untraced functions such as _jit_compiled_convolution_op, _jit_compiled_convolution_op, _jit_compiled_convolution_op, _jit_compiled_convolution_op, _jit_compiled_convolution_op while saving (showing 5 of 10). These functions will not be directly callable after loading.\n"
     ]
    },
    {
     "name": "stdout",
     "output_type": "stream",
     "text": [
      "INFO:tensorflow:Assets written to: lstm-many-to-one-data-and-images/assets\n"
     ]
    },
    {
     "name": "stderr",
     "output_type": "stream",
     "text": [
      "INFO:tensorflow:Assets written to: lstm-many-to-one-data-and-images/assets\n"
     ]
    },
    {
     "name": "stdout",
     "output_type": "stream",
     "text": [
      "\n",
      "--------------------------------------------------\n",
      "Iteration 51\n",
      "105/105 [==============================] - 1s 10ms/step - loss: 0.0850 - accuracy: 0.9675 - val_loss: 0.1151 - val_accuracy: 0.9558\n",
      "\n",
      "--------------------------------------------------\n",
      "Iteration 52\n",
      "105/105 [==============================] - 1s 10ms/step - loss: 0.0791 - accuracy: 0.9701 - val_loss: 0.1338 - val_accuracy: 0.9487\n",
      "\n",
      "--------------------------------------------------\n",
      "Iteration 53\n",
      "105/105 [==============================] - 1s 10ms/step - loss: 0.0781 - accuracy: 0.9692 - val_loss: 0.2686 - val_accuracy: 0.9056\n",
      "\n",
      "--------------------------------------------------\n",
      "Iteration 54\n",
      "105/105 [==============================] - 1s 10ms/step - loss: 0.4457 - accuracy: 0.7951 - val_loss: 0.3583 - val_accuracy: 0.8216\n",
      "\n",
      "--------------------------------------------------\n",
      "Iteration 55\n",
      "105/105 [==============================] - 1s 10ms/step - loss: 0.3204 - accuracy: 0.8308 - val_loss: 0.2826 - val_accuracy: 0.8543\n",
      "\n",
      "--------------------------------------------------\n",
      "Iteration 56\n",
      "105/105 [==============================] - 1s 10ms/step - loss: 0.2555 - accuracy: 0.8651 - val_loss: 0.2455 - val_accuracy: 0.8853\n",
      "\n",
      "--------------------------------------------------\n",
      "Iteration 57\n",
      "105/105 [==============================] - 1s 10ms/step - loss: 0.2226 - accuracy: 0.8883 - val_loss: 0.2133 - val_accuracy: 0.8993\n",
      "\n",
      "--------------------------------------------------\n",
      "Iteration 58\n",
      "105/105 [==============================] - 1s 10ms/step - loss: 0.1800 - accuracy: 0.9159 - val_loss: 0.2013 - val_accuracy: 0.9102\n",
      "\n",
      "--------------------------------------------------\n",
      "Iteration 59\n",
      "105/105 [==============================] - 1s 10ms/step - loss: 0.1498 - accuracy: 0.9327 - val_loss: 0.1739 - val_accuracy: 0.9116\n",
      "\n",
      "--------------------------------------------------\n",
      "Iteration 60\n",
      "105/105 [==============================] - 1s 10ms/step - loss: 0.1328 - accuracy: 0.9412 - val_loss: 0.1447 - val_accuracy: 0.9400\n",
      "\n",
      "--------------------------------------------------\n",
      "Iteration 61\n",
      "105/105 [==============================] - 1s 10ms/step - loss: 0.1262 - accuracy: 0.9445 - val_loss: 0.1428 - val_accuracy: 0.9363\n",
      "\n",
      "--------------------------------------------------\n",
      "Iteration 62\n",
      "105/105 [==============================] - 1s 10ms/step - loss: 0.1138 - accuracy: 0.9526 - val_loss: 0.1545 - val_accuracy: 0.9334\n",
      "\n",
      "--------------------------------------------------\n",
      "Iteration 63\n",
      "105/105 [==============================] - 1s 10ms/step - loss: 0.1056 - accuracy: 0.9561 - val_loss: 0.1352 - val_accuracy: 0.9400\n",
      "\n",
      "--------------------------------------------------\n",
      "Iteration 64\n",
      "105/105 [==============================] - 1s 10ms/step - loss: 0.1012 - accuracy: 0.9588 - val_loss: 0.2549 - val_accuracy: 0.9065\n",
      "\n",
      "--------------------------------------------------\n",
      "Iteration 65\n",
      "105/105 [==============================] - 1s 10ms/step - loss: 0.1217 - accuracy: 0.9520 - val_loss: 0.1146 - val_accuracy: 0.9538\n",
      "\n",
      "--------------------------------------------------\n",
      "Iteration 66\n",
      "105/105 [==============================] - 1s 10ms/step - loss: 0.0897 - accuracy: 0.9640 - val_loss: 0.1073 - val_accuracy: 0.9598\n",
      "\n",
      "--------------------------------------------------\n",
      "Iteration 67\n",
      "105/105 [==============================] - 1s 10ms/step - loss: 0.0757 - accuracy: 0.9692 - val_loss: 0.1188 - val_accuracy: 0.9512\n",
      "\n",
      "--------------------------------------------------\n",
      "Iteration 68\n",
      "105/105 [==============================] - 1s 10ms/step - loss: 0.0839 - accuracy: 0.9665 - val_loss: 0.0974 - val_accuracy: 0.9581\n",
      "\n",
      "--------------------------------------------------\n",
      "Iteration 69\n",
      "105/105 [==============================] - 1s 10ms/step - loss: 0.0710 - accuracy: 0.9719 - val_loss: 0.1059 - val_accuracy: 0.9613\n",
      "\n",
      "--------------------------------------------------\n",
      "Iteration 70\n",
      "105/105 [==============================] - 1s 14ms/step - loss: 0.0868 - accuracy: 0.9666 - val_loss: 0.1338 - val_accuracy: 0.9464\n",
      "\n",
      "--------------------------------------------------\n",
      "Iteration 71\n",
      "105/105 [==============================] - 1s 10ms/step - loss: 0.0843 - accuracy: 0.9681 - val_loss: 0.1157 - val_accuracy: 0.9567\n",
      "\n",
      "--------------------------------------------------\n",
      "Iteration 72\n",
      "105/105 [==============================] - 1s 10ms/step - loss: 0.0673 - accuracy: 0.9749 - val_loss: 0.0918 - val_accuracy: 0.9650\n",
      "Saving Model...\n"
     ]
    },
    {
     "name": "stderr",
     "output_type": "stream",
     "text": [
      "WARNING:absl:Found untraced functions such as _jit_compiled_convolution_op, _jit_compiled_convolution_op, _jit_compiled_convolution_op, _jit_compiled_convolution_op, _jit_compiled_convolution_op while saving (showing 5 of 10). These functions will not be directly callable after loading.\n"
     ]
    },
    {
     "name": "stdout",
     "output_type": "stream",
     "text": [
      "INFO:tensorflow:Assets written to: lstm-many-to-one-data-and-images/assets\n"
     ]
    },
    {
     "name": "stderr",
     "output_type": "stream",
     "text": [
      "INFO:tensorflow:Assets written to: lstm-many-to-one-data-and-images/assets\n"
     ]
    },
    {
     "name": "stdout",
     "output_type": "stream",
     "text": [
      "\n",
      "--------------------------------------------------\n",
      "Iteration 73\n",
      "105/105 [==============================] - 1s 10ms/step - loss: 0.0672 - accuracy: 0.9734 - val_loss: 0.0913 - val_accuracy: 0.9650\n",
      "\n",
      "--------------------------------------------------\n",
      "Iteration 74\n",
      "105/105 [==============================] - 1s 10ms/step - loss: 0.0804 - accuracy: 0.9703 - val_loss: 0.0753 - val_accuracy: 0.9707\n",
      "Saving Model...\n"
     ]
    },
    {
     "name": "stderr",
     "output_type": "stream",
     "text": [
      "WARNING:absl:Found untraced functions such as _jit_compiled_convolution_op, _jit_compiled_convolution_op, _jit_compiled_convolution_op, _jit_compiled_convolution_op, _jit_compiled_convolution_op while saving (showing 5 of 10). These functions will not be directly callable after loading.\n"
     ]
    },
    {
     "name": "stdout",
     "output_type": "stream",
     "text": [
      "INFO:tensorflow:Assets written to: lstm-many-to-one-data-and-images/assets\n"
     ]
    },
    {
     "name": "stderr",
     "output_type": "stream",
     "text": [
      "INFO:tensorflow:Assets written to: lstm-many-to-one-data-and-images/assets\n"
     ]
    },
    {
     "name": "stdout",
     "output_type": "stream",
     "text": [
      "\n",
      "--------------------------------------------------\n",
      "Iteration 75\n",
      "105/105 [==============================] - 1s 10ms/step - loss: 0.0608 - accuracy: 0.9760 - val_loss: 0.0992 - val_accuracy: 0.9650\n",
      "\n",
      "--------------------------------------------------\n",
      "Iteration 76\n",
      "105/105 [==============================] - 1s 10ms/step - loss: 0.0660 - accuracy: 0.9752 - val_loss: 0.0778 - val_accuracy: 0.9702\n",
      "\n",
      "--------------------------------------------------\n",
      "Iteration 77\n",
      "105/105 [==============================] - 1s 10ms/step - loss: 0.0596 - accuracy: 0.9782 - val_loss: 0.0795 - val_accuracy: 0.9673\n",
      "\n",
      "--------------------------------------------------\n",
      "Iteration 78\n",
      "105/105 [==============================] - 1s 10ms/step - loss: 0.0566 - accuracy: 0.9778 - val_loss: 0.0709 - val_accuracy: 0.9739\n",
      "Saving Model...\n"
     ]
    },
    {
     "name": "stderr",
     "output_type": "stream",
     "text": [
      "WARNING:absl:Found untraced functions such as _jit_compiled_convolution_op, _jit_compiled_convolution_op, _jit_compiled_convolution_op, _jit_compiled_convolution_op, _jit_compiled_convolution_op while saving (showing 5 of 10). These functions will not be directly callable after loading.\n"
     ]
    },
    {
     "name": "stdout",
     "output_type": "stream",
     "text": [
      "INFO:tensorflow:Assets written to: lstm-many-to-one-data-and-images/assets\n"
     ]
    },
    {
     "name": "stderr",
     "output_type": "stream",
     "text": [
      "INFO:tensorflow:Assets written to: lstm-many-to-one-data-and-images/assets\n"
     ]
    },
    {
     "name": "stdout",
     "output_type": "stream",
     "text": [
      "\n",
      "--------------------------------------------------\n",
      "Iteration 79\n",
      "105/105 [==============================] - 1s 10ms/step - loss: 0.0703 - accuracy: 0.9728 - val_loss: 0.1212 - val_accuracy: 0.9507\n",
      "\n",
      "--------------------------------------------------\n",
      "Iteration 80\n",
      "105/105 [==============================] - 1s 10ms/step - loss: 0.0506 - accuracy: 0.9800 - val_loss: 0.0735 - val_accuracy: 0.9716\n",
      "\n",
      "--------------------------------------------------\n",
      "Iteration 81\n",
      "105/105 [==============================] - 1s 11ms/step - loss: 0.0409 - accuracy: 0.9858 - val_loss: 0.0640 - val_accuracy: 0.9745\n",
      "Saving Model...\n"
     ]
    },
    {
     "name": "stderr",
     "output_type": "stream",
     "text": [
      "WARNING:absl:Found untraced functions such as _jit_compiled_convolution_op, _jit_compiled_convolution_op, _jit_compiled_convolution_op, _jit_compiled_convolution_op, _jit_compiled_convolution_op while saving (showing 5 of 10). These functions will not be directly callable after loading.\n"
     ]
    },
    {
     "name": "stdout",
     "output_type": "stream",
     "text": [
      "INFO:tensorflow:Assets written to: lstm-many-to-one-data-and-images/assets\n"
     ]
    },
    {
     "name": "stderr",
     "output_type": "stream",
     "text": [
      "INFO:tensorflow:Assets written to: lstm-many-to-one-data-and-images/assets\n"
     ]
    },
    {
     "name": "stdout",
     "output_type": "stream",
     "text": [
      "\n",
      "--------------------------------------------------\n",
      "Iteration 82\n",
      "105/105 [==============================] - 1s 10ms/step - loss: 0.0705 - accuracy: 0.9731 - val_loss: 0.0753 - val_accuracy: 0.9705\n",
      "\n",
      "--------------------------------------------------\n",
      "Iteration 83\n",
      "105/105 [==============================] - 1s 10ms/step - loss: 0.0501 - accuracy: 0.9803 - val_loss: 0.0698 - val_accuracy: 0.9707\n",
      "\n",
      "--------------------------------------------------\n",
      "Iteration 84\n",
      "105/105 [==============================] - 1s 10ms/step - loss: 0.0780 - accuracy: 0.9721 - val_loss: 0.0765 - val_accuracy: 0.9719\n",
      "\n",
      "--------------------------------------------------\n",
      "Iteration 85\n",
      "105/105 [==============================] - 1s 10ms/step - loss: 0.1259 - accuracy: 0.9526 - val_loss: 0.2687 - val_accuracy: 0.8973\n",
      "\n",
      "--------------------------------------------------\n",
      "Iteration 86\n",
      "105/105 [==============================] - 1s 10ms/step - loss: 0.1139 - accuracy: 0.9550 - val_loss: 0.0802 - val_accuracy: 0.9639\n",
      "\n",
      "--------------------------------------------------\n",
      "Iteration 87\n",
      "105/105 [==============================] - 1s 10ms/step - loss: 0.0491 - accuracy: 0.9806 - val_loss: 0.0763 - val_accuracy: 0.9684\n",
      "\n",
      "--------------------------------------------------\n",
      "Iteration 88\n",
      "105/105 [==============================] - 1s 10ms/step - loss: 0.0489 - accuracy: 0.9825 - val_loss: 0.0681 - val_accuracy: 0.9739\n",
      "\n",
      "--------------------------------------------------\n",
      "Iteration 89\n",
      "105/105 [==============================] - 1s 10ms/step - loss: 0.0431 - accuracy: 0.9839 - val_loss: 0.0652 - val_accuracy: 0.9765\n",
      "Saving Model...\n"
     ]
    },
    {
     "name": "stderr",
     "output_type": "stream",
     "text": [
      "WARNING:absl:Found untraced functions such as _jit_compiled_convolution_op, _jit_compiled_convolution_op, _jit_compiled_convolution_op, _jit_compiled_convolution_op, _jit_compiled_convolution_op while saving (showing 5 of 10). These functions will not be directly callable after loading.\n"
     ]
    },
    {
     "name": "stdout",
     "output_type": "stream",
     "text": [
      "INFO:tensorflow:Assets written to: lstm-many-to-one-data-and-images/assets\n"
     ]
    },
    {
     "name": "stderr",
     "output_type": "stream",
     "text": [
      "INFO:tensorflow:Assets written to: lstm-many-to-one-data-and-images/assets\n"
     ]
    },
    {
     "name": "stdout",
     "output_type": "stream",
     "text": [
      "\n",
      "--------------------------------------------------\n",
      "Iteration 90\n",
      "105/105 [==============================] - 1s 10ms/step - loss: 0.0617 - accuracy: 0.9791 - val_loss: 0.1349 - val_accuracy: 0.9527\n",
      "\n",
      "--------------------------------------------------\n",
      "Iteration 91\n",
      "105/105 [==============================] - 1s 10ms/step - loss: 0.0612 - accuracy: 0.9760 - val_loss: 0.0739 - val_accuracy: 0.9710\n",
      "\n",
      "--------------------------------------------------\n",
      "Iteration 92\n",
      "105/105 [==============================] - 1s 10ms/step - loss: 0.0368 - accuracy: 0.9865 - val_loss: 0.0972 - val_accuracy: 0.9630\n",
      "\n",
      "--------------------------------------------------\n",
      "Iteration 93\n",
      "105/105 [==============================] - 1s 10ms/step - loss: 0.0450 - accuracy: 0.9842 - val_loss: 0.1077 - val_accuracy: 0.9613\n",
      "\n",
      "--------------------------------------------------\n",
      "Iteration 94\n",
      "105/105 [==============================] - 1s 10ms/step - loss: 0.0511 - accuracy: 0.9814 - val_loss: 0.0787 - val_accuracy: 0.9699\n",
      "\n",
      "--------------------------------------------------\n",
      "Iteration 95\n",
      "105/105 [==============================] - 1s 10ms/step - loss: 0.0360 - accuracy: 0.9858 - val_loss: 0.1367 - val_accuracy: 0.9596\n",
      "\n",
      "--------------------------------------------------\n",
      "Iteration 96\n",
      "105/105 [==============================] - 1s 10ms/step - loss: 0.0452 - accuracy: 0.9832 - val_loss: 0.0938 - val_accuracy: 0.9653\n",
      "\n",
      "--------------------------------------------------\n",
      "Iteration 97\n",
      "105/105 [==============================] - 1s 10ms/step - loss: 0.0545 - accuracy: 0.9801 - val_loss: 0.0584 - val_accuracy: 0.9773\n",
      "Saving Model...\n"
     ]
    },
    {
     "name": "stderr",
     "output_type": "stream",
     "text": [
      "WARNING:absl:Found untraced functions such as _jit_compiled_convolution_op, _jit_compiled_convolution_op, _jit_compiled_convolution_op, _jit_compiled_convolution_op, _jit_compiled_convolution_op while saving (showing 5 of 10). These functions will not be directly callable after loading.\n"
     ]
    },
    {
     "name": "stdout",
     "output_type": "stream",
     "text": [
      "INFO:tensorflow:Assets written to: lstm-many-to-one-data-and-images/assets\n"
     ]
    },
    {
     "name": "stderr",
     "output_type": "stream",
     "text": [
      "INFO:tensorflow:Assets written to: lstm-many-to-one-data-and-images/assets\n"
     ]
    },
    {
     "name": "stdout",
     "output_type": "stream",
     "text": [
      "\n",
      "--------------------------------------------------\n",
      "Iteration 98\n",
      "105/105 [==============================] - 1s 10ms/step - loss: 0.0483 - accuracy: 0.9836 - val_loss: 0.1242 - val_accuracy: 0.9541\n",
      "\n",
      "--------------------------------------------------\n",
      "Iteration 99\n",
      "105/105 [==============================] - 1s 10ms/step - loss: 0.0779 - accuracy: 0.9700 - val_loss: 0.0953 - val_accuracy: 0.9644\n"
     ]
    }
   ],
   "source": [
    "# Init best accuracy with 0\n",
    "best_acc = 0\n",
    "# Save all training loss\n",
    "train_loss = []\n",
    "# Save all validation loss\n",
    "val_loss = []\n",
    "# reshape imgs_train and imgs_test\n",
    "imgs_train = np.einsum('ijkl->iklj', imgs_train[:,:,:,:,0])\n",
    "imgs_test = np.einsum('ijkl->iklj', imgs_test[:,:,:,:,0])\n",
    "# Loop for the number of epochs\n",
    "for iteration in range(100):\n",
    "    print()\n",
    "    print('-' * 50)\n",
    "    print('Iteration', iteration)\n",
    "    \n",
    "    # Loss and Acc with each epoch\n",
    "    loss = []\n",
    "    acc = []\n",
    "    \n",
    "    # Fit the model in batches of 100\n",
    "    history = model.fit( [imgs_train, X_train], y_train, batch_size = 100, epochs=1, validation_data=( [imgs_test, X_test], y_test))\n",
    "    train_loss.append(history.history['loss'][0])\n",
    "    val_loss.append(history.history['val_loss'][0])\n",
    "    # If val_accuracy improves from the last saved best_accuracy, then save model\n",
    "    if history.history['val_accuracy'][0] > best_acc and history.history['val_accuracy'][0] > .80:\n",
    "        print('Saving Model...')\n",
    "        model.save('lstm-many-to-one-data-and-images')\n",
    "        best_acc = history.history['val_accuracy'][0]"
   ]
  },
  {
   "cell_type": "markdown",
   "id": "6d64ad26",
   "metadata": {},
   "source": [
    "## Plotting Epochs vs. Training loss (Binary Cross Entropy)"
   ]
  },
  {
   "cell_type": "code",
   "execution_count": 22,
   "id": "b8db5a1a",
   "metadata": {},
   "outputs": [
    {
     "data": {
      "image/png": "[encoded data removed]",
      "text/plain": [
       "<Figure size 640x480 with 1 Axes>"
      ]
     },
     "metadata": {},
     "output_type": "display_data"
    }
   ],
   "source": [
    "plt.plot(val_loss, label='Validation')\n",
    "plt.plot(train_loss, label='Train')\n",
    "plt.legend()\n",
    "plt.xlabel('Epochs')\n",
    "plt.ylabel('Binary Cross Entropy')\n",
    "plt.title('Loss for LSTM using Tabular Data')\n",
    "plt.savefig('Losses_data_and_image.png')"
   ]
  },
  {
   "cell_type": "markdown",
   "id": "939a9a9c",
   "metadata": {},
   "source": [
    "The training loss and validation loss has decreased monotonically, with one peak."
   ]
  },
  {
   "cell_type": "markdown",
   "id": "cfe92e82",
   "metadata": {},
   "source": [
    "## Testing the model on the test set"
   ]
  },
  {
   "cell_type": "code",
   "execution_count": 23,
   "id": "d53331d4",
   "metadata": {},
   "outputs": [],
   "source": [
    "# Loading the model\n",
    "model_pretrained = keras.models.load_model('lstm-many-to-one-data-and-images')\n",
    "\n",
    "# Prediction using X_test\n",
    "pred = model_pretrained([imgs_test, X_test])\n",
    "# Convert to array\n",
    "pred = np.array(pred)\n",
    "\n",
    "# Assigning class based on prediction\n",
    "pred[pred>0.5] = 1\n",
    "pred[pred!=1] = 0\n",
    "\n",
    "# Class-wise accuracy\n",
    "classwise1 = ((np.array(pred)[:,0] == np.array(y_test))*(y_test==1)).sum()/(y_test==1).sum()\n",
    "classwise0 = ((np.array(pred)[:,0] == np.array(y_test))*(y_test==0)).sum()/(y_test==0).sum()"
   ]
  },
  {
   "cell_type": "markdown",
   "id": "59acd665",
   "metadata": {},
   "source": [
    "## Classwise accuracy and overall accuracy on test data "
   ]
  },
  {
   "cell_type": "code",
   "execution_count": 24,
   "id": "5dc43176",
   "metadata": {},
   "outputs": [
    {
     "name": "stdout",
     "output_type": "stream",
     "text": [
      "Total Accuracy: \t 97.762\n",
      "------------------------------\n",
      "--Class wise Accuracy of Test--\n",
      "------------------------------\n",
      "Class 0: \t 98.199\n",
      "Class 1: \t 96.056\n"
     ]
    }
   ],
   "source": [
    "print(f'Total Accuracy: \\t {((np.array(pred)[:,0] == np.array(y_test)).sum()/len(pred))*100:.3f}')\n",
    "print('-'*30)\n",
    "print('--Class wise Accuracy of Test--')\n",
    "print('-'*30)\n",
    "print(f'Class 0: \\t {classwise0*100:.3f}')\n",
    "print(f'Class 1: \\t {classwise1*100:.3f}')"
   ]
  },
  {
   "cell_type": "markdown",
   "id": "cf1af0c0",
   "metadata": {},
   "source": [
    "# Conclusion:\n",
    "\n",
    "- The RNN model and the CNN + RNN combination model, both work very well (>90%)\n",
    "    - But due to the images data and ConvNets, the combination model shows a substantial improvement in testing accuracy of 97% compared to 94 % of RNN model.\n",
    "    - We mainly find a major improvement in class wise accuracies. As the combined CNN+RNN model has 96% accuracy for snow prediction while the RNN model has 84.5% (almost a +12% boost!) \n",
    "- **RNN**\n",
    "    - Total Accuracy = `94.923%`\n",
    "    - Class-wise Accuracy\n",
    "        - Class 0 = 97.586%\n",
    "        - Class 1 = 84.507%\n",
    "- **CNN + RNN**\n",
    "    - Total Accuracy = `97.762%`\n",
    "    - Class-wise Accuracy\n",
    "        - Class 0 = 98.199%\n",
    "        - Class 1 = 96.056%\n",
    "- Our baseline of Decision Tree had an accuracy of `54.76%`\n",
    "    - Overall, our CNN + RNN network has shown an improvement of `~42%`"
   ]
  },
  {
   "cell_type": "markdown",
   "id": "127d4d04",
   "metadata": {},
   "source": [
    "# Reference\n",
    "- Zeiler. et.al 2013, \"Visualizing and Understanding Convolutional Networks\" (https://arxiv.org/abs/1311.2901)\n",
    "- https://medium.com/@mixanyy/different-ways-to-combine-cnn-and-lstm-networks-for-time-series-classification-tasks-b03fc37e91b6"
   ]
  },
  {
   "cell_type": "code",
   "execution_count": null,
   "id": "fbe16d67",
   "metadata": {},
   "outputs": [],
   "source": []
  }
 ],
 "metadata": {
  "kernelspec": {
   "display_name": "Python 3 (ipykernel)",
   "language": "python",
   "name": "python3"
  },
  "language_info": {
   "codemirror_mode": {
    "name": "ipython",
    "version": 3
   },
   "file_extension": ".py",
   "mimetype": "text/x-python",
   "name": "python",
   "nbconvert_exporter": "python",
   "pygments_lexer": "ipython3",
   "version": "3.7.12"
  }
 },
 "nbformat": 4,
 "nbformat_minor": 5
}
